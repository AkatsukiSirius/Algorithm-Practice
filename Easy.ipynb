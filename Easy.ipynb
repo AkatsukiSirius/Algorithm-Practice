{
 "cells": [
  {
   "cell_type": "code",
   "execution_count": 1,
   "metadata": {},
   "outputs": [],
   "source": [
    "from time import time # import time function from time module"
   ]
  },
  {
   "cell_type": "markdown",
   "metadata": {},
   "source": [
    "# Easy"
   ]
  },
  {
   "cell_type": "markdown",
   "metadata": {},
   "source": [
    "## 1. Two Sum"
   ]
  },
  {
   "cell_type": "code",
   "execution_count": 2,
   "metadata": {},
   "outputs": [],
   "source": [
    "nums = [value for value in range(10000)]"
   ]
  },
  {
   "cell_type": "code",
   "execution_count": 41,
   "metadata": {},
   "outputs": [],
   "source": [
    "class solutions1:\n",
    "    def twoSumBF(self, nums,target):\n",
    "        results = []\n",
    "        for i in range(len(nums)-1,0,-1):\n",
    "            for j in range(i-1,-1,-1):\n",
    "                if nums[i] + nums[j] == target:\n",
    "                    results.append((i,j))\n",
    "        return results\n",
    "\n",
    "    def twoSumTPH(self, nums,target):\n",
    "        results = []\n",
    "        hashTab = {}\n",
    "        for i in range(len(nums)):\n",
    "            hashTab[nums[i]] = i\n",
    "        for i in range(len(nums)):\n",
    "            if target-nums[i] in hashTab.keys() and i != hashTab[target-nums[i]]:\n",
    "                if [i,hashTab[target-nums[i]]] not in results and [hashTab[target-nums[i]],i] not in results:\n",
    "                    if i < hashTab[target-nums[i]]:\n",
    "                        results.append([i,hashTab[target-nums[i]]])\n",
    "                    else:\n",
    "                        results.append([hashTab[target-nums[i]],i])       \n",
    "        return results\n",
    "\n",
    "    def twoSumOPH(self, nums,target):\n",
    "        results = []\n",
    "        hashTab = {}\n",
    "        for i in range(len(nums)):\n",
    "            if target - nums[i] in hashTab.keys():\n",
    "                results.append([i,hashTab[target-nums[i]]])\n",
    "            hashTab[nums[i]] = i\n",
    "        return results"
   ]
  },
  {
   "cell_type": "code",
   "execution_count": 45,
   "metadata": {},
   "outputs": [],
   "source": [
    "S1 = solutions1()"
   ]
  },
  {
   "cell_type": "markdown",
   "metadata": {},
   "source": [
    "### 1.1  Brute Force"
   ]
  },
  {
   "cell_type": "code",
   "execution_count": 3,
   "metadata": {},
   "outputs": [],
   "source": [
    "def twoSumBF(nums,target):\n",
    "    results = []\n",
    "    for i in range(len(nums)-1,0,-1):\n",
    "        for j in range(i-1,-1,-1):\n",
    "            if nums[i] + nums[j] == target:\n",
    "                results.append((i,j))\n",
    "    return results"
   ]
  },
  {
   "cell_type": "code",
   "execution_count": 46,
   "metadata": {},
   "outputs": [
    {
     "name": "stdout",
     "output_type": "stream",
     "text": [
      "[(6, 0), (5, 1), (4, 2)]\n",
      "3.535562515258789\n"
     ]
    }
   ],
   "source": [
    "start = time()\n",
    "print(S1.twoSumBF(nums,6))\n",
    "end = time()\n",
    "print((end-start))"
   ]
  },
  {
   "cell_type": "markdown",
   "metadata": {},
   "source": [
    "__Complexity Analysis__\n",
    "\n",
    "1) Time complexity : O($n^2$)\n",
    "\n",
    "2) Space complexity : O(1). "
   ]
  },
  {
   "cell_type": "markdown",
   "metadata": {},
   "source": [
    "### 1.2 Two-Pass Hash"
   ]
  },
  {
   "cell_type": "code",
   "execution_count": 100,
   "metadata": {},
   "outputs": [],
   "source": [
    "def twoSumTPH(nums,target):\n",
    "    results = []\n",
    "    hashTab = {}\n",
    "    for i in range(len(nums)):\n",
    "        hashTab[nums[i]] = i\n",
    "    for i in range(len(nums)):\n",
    "        if target-nums[i] in hashTab.keys() and i != hashTab[target-nums[i]]:\n",
    "            if [i,hashTab[target-nums[i]]] not in results and [hashTab[target-nums[i]],i] not in results:\n",
    "                if i < hashTab[target-nums[i]]:\n",
    "                    results.append([i,hashTab[target-nums[i]]])\n",
    "                else:\n",
    "                    results.append([hashTab[target-nums[i]],i])       \n",
    "    return results"
   ]
  },
  {
   "cell_type": "code",
   "execution_count": 47,
   "metadata": {},
   "outputs": [
    {
     "name": "stdout",
     "output_type": "stream",
     "text": [
      "[[0, 6], [1, 5], [2, 4]]\n",
      "0.0020329952239990234\n"
     ]
    }
   ],
   "source": [
    "start = time()\n",
    "print(S1.twoSumTPH(nums,6))\n",
    "end = time()\n",
    "print((end-start))"
   ]
  },
  {
   "cell_type": "markdown",
   "metadata": {},
   "source": [
    "__Complexity Analysis__\n",
    "\n",
    "1) Time complexity : O(n)\n",
    "\n",
    "2) Space complexity : O(n)"
   ]
  },
  {
   "cell_type": "markdown",
   "metadata": {},
   "source": [
    "### 1.3 One-Pass Hash"
   ]
  },
  {
   "cell_type": "code",
   "execution_count": 109,
   "metadata": {},
   "outputs": [],
   "source": [
    "def twoSumOPH(nums,target):\n",
    "    results = []\n",
    "    hashTab = {}\n",
    "    for i in range(len(nums)):\n",
    "        if target - nums[i] in hashTab.keys():\n",
    "            results.append([i,hashTab[target-nums[i]]])\n",
    "        hashTab[nums[i]] = i\n",
    "    return results"
   ]
  },
  {
   "cell_type": "code",
   "execution_count": 48,
   "metadata": {},
   "outputs": [
    {
     "name": "stdout",
     "output_type": "stream",
     "text": [
      "[[4, 2], [5, 1], [6, 0]]\n",
      "0.001994609832763672\n"
     ]
    }
   ],
   "source": [
    "start = time()\n",
    "print(S1.twoSumOPH(nums,6))\n",
    "end = time()\n",
    "print((end-start))"
   ]
  },
  {
   "cell_type": "markdown",
   "metadata": {},
   "source": [
    "__Complexity Analysis__\n",
    "\n",
    "1) Time complexity : O(n)\n",
    "\n",
    "2) Space complexity : O(n)"
   ]
  },
  {
   "cell_type": "markdown",
   "metadata": {},
   "source": [
    "## 771. Jewels and Stones"
   ]
  },
  {
   "cell_type": "markdown",
   "metadata": {},
   "source": [
    "You're given strings __J__ representing the types of stones that are __jewels__, and __S__ representing the __stones__ you have.  Each character in S is a type of stone you have.  You want to know how many of the stones you have are also jewels.\n",
    "\n",
    "The letters in J are guaranteed distinct, and all characters in J and S are letters. Letters are case sensitive, so \"a\" is considered a different type of stone from \"A\"."
   ]
  },
  {
   "cell_type": "markdown",
   "metadata": {},
   "source": [
    "__Example 1__:\n",
    "\n",
    "Input: J = \"aA\", S = \"aAAbbbb\"\n",
    "\n",
    "Output: 3"
   ]
  },
  {
   "cell_type": "markdown",
   "metadata": {},
   "source": [
    "__Example 2__:\n",
    "\n",
    "Input: J = \"z\", S = \"ZZ\"\n",
    "\n",
    "Output: 0"
   ]
  },
  {
   "cell_type": "code",
   "execution_count": 95,
   "metadata": {},
   "outputs": [],
   "source": [
    "class solution771:\n",
    "    \n",
    "    def numJewelsInStonesBF(self, J, S): \n",
    "        \"\"\" \n",
    "        :type J: str \n",
    "        :type S: str \n",
    "        :rtype: int\n",
    "        \"\"\"\n",
    "        count = 0\n",
    "        for jewel in J:\n",
    "            for stone in S:\n",
    "                if stone == jewel:\n",
    "                    count += 1\n",
    "        return count\n",
    "    \n",
    "    def numJewelsInStones(self, J, S):\n",
    "        \"\"\" \n",
    "        :type J: str \n",
    "        :type S: str \n",
    "        :rtype: int\n",
    "        \"\"\"\n",
    "        setJ = set(J)\n",
    "        return sum(s in setJ for s in S)\n",
    "    \n",
    "    def numJewelsInStonesMap(self, J, S):\n",
    "        \"\"\" \n",
    "        :type J: str \n",
    "        :type S: str \n",
    "        :rtype: int\n",
    "        \"\"\"\n",
    "        return sum(map(J.count,S))"
   ]
  },
  {
   "cell_type": "code",
   "execution_count": 96,
   "metadata": {},
   "outputs": [],
   "source": [
    "S771 = solution771()"
   ]
  },
  {
   "cell_type": "code",
   "execution_count": 97,
   "metadata": {},
   "outputs": [],
   "source": [
    "J = \"aA\"\n",
    "S = \"aAAbbbb\" * 10000"
   ]
  },
  {
   "cell_type": "code",
   "execution_count": 98,
   "metadata": {},
   "outputs": [
    {
     "data": {
      "text/plain": [
       "30000"
      ]
     },
     "execution_count": 98,
     "metadata": {},
     "output_type": "execute_result"
    }
   ],
   "source": [
    "numJewelsInStonesBF(J, S)"
   ]
  },
  {
   "cell_type": "code",
   "execution_count": 99,
   "metadata": {
    "scrolled": true
   },
   "outputs": [
    {
     "name": "stdout",
     "output_type": "stream",
     "text": [
      "30000\n",
      "0.004985332489013672\n"
     ]
    }
   ],
   "source": [
    "start = time()\n",
    "print(S771.numJewelsInStonesBF(J, S))\n",
    "end = time()\n",
    "print((end-start))"
   ]
  },
  {
   "cell_type": "markdown",
   "metadata": {},
   "source": [
    "### [is vs == ](https://www.cnblogs.com/CheeseZH/p/5260560.html)\n",
    "\n",
    "### [iterable vs iterator](https://www.geeksforgeeks.org/python-difference-iterable-iterator/)\n",
    "\n",
    "- Fixed Size, iterable, list，truple，str，dict\n",
    "\n",
    "- for vs. next()"
   ]
  },
  {
   "cell_type": "code",
   "execution_count": 100,
   "metadata": {},
   "outputs": [],
   "source": [
    "def square(x):\n",
    "    return x ** x"
   ]
  },
  {
   "cell_type": "code",
   "execution_count": 101,
   "metadata": {},
   "outputs": [],
   "source": [
    "b = map(square,[1,2,3])"
   ]
  },
  {
   "cell_type": "code",
   "execution_count": 102,
   "metadata": {},
   "outputs": [
    {
     "name": "stdout",
     "output_type": "stream",
     "text": [
      "1\n",
      "4\n",
      "27\n"
     ]
    }
   ],
   "source": [
    "for i in b:\n",
    "    print(i)"
   ]
  },
  {
   "cell_type": "code",
   "execution_count": 103,
   "metadata": {},
   "outputs": [
    {
     "name": "stdout",
     "output_type": "stream",
     "text": [
      "0.004983186721801758\n"
     ]
    }
   ],
   "source": [
    "start = time()\n",
    "S771.numJewelsInStonesBF(J, S)\n",
    "end = time()\n",
    "print((end-start))"
   ]
  },
  {
   "cell_type": "code",
   "execution_count": 105,
   "metadata": {},
   "outputs": [
    {
     "name": "stdout",
     "output_type": "stream",
     "text": [
      "0.016915559768676758\n"
     ]
    }
   ],
   "source": [
    "start = time()\n",
    "S771.numJewelsInStonesMap(J, S)\n",
    "end = time()\n",
    "print((end-start))"
   ]
  },
  {
   "cell_type": "markdown",
   "metadata": {},
   "source": [
    "## 760. Find Anagram Mappings"
   ]
  },
  {
   "cell_type": "markdown",
   "metadata": {},
   "source": [
    "Given two lists A and B, and B is an anagram of A. B is an anagram of A means B is made by randomizing the order of the elements in A.\n",
    "\n",
    "We want to find an index mapping P, from A to B. A mapping P[i] = j means the ith element in A appears in B at index j.\n",
    "\n",
    "These lists A and B may contain duplicates. If there are multiple answers, output any of them.\n",
    "\n",
    "For example, given\n",
    "\n",
    "A = [12, 28, 46, 32, 50]\n",
    "\n",
    "B = [50, 12, 32, 46, 28]\n",
    "\n",
    "We should return\n",
    "\n",
    "[1, 4, 3, 2, 0]\n",
    "\n",
    "as P[0] = 1 because the 0th element of A appears at B[1], and P[1] = 4 because the 1st element of A appears at B[4], and so on.\n",
    "\n",
    "Note:\n",
    "\n",
    "1.\tA, B have equal lengths in range [1, 100].\n",
    "\n",
    "2.\tA[i], B[i] are integers in range [0, 10^5].\n"
   ]
  },
  {
   "cell_type": "code",
   "execution_count": 106,
   "metadata": {},
   "outputs": [],
   "source": [
    "class solution760:\n",
    "    def FindAnagramMappings(self, A, B):\n",
    "        \"\"\" \n",
    "        :type A: list \n",
    "        :type B: list \n",
    "        :rtype: list\n",
    "        \"\"\"\n",
    "        results = []\n",
    "        for a in A:\n",
    "            if a in B:\n",
    "                results.append(B.index(a))\n",
    "        return results\n",
    "                "
   ]
  },
  {
   "cell_type": "code",
   "execution_count": 107,
   "metadata": {},
   "outputs": [],
   "source": [
    "s760 = solution760()"
   ]
  },
  {
   "cell_type": "code",
   "execution_count": 120,
   "metadata": {},
   "outputs": [],
   "source": [
    "import random\n",
    "import numpy as np"
   ]
  },
  {
   "cell_type": "code",
   "execution_count": 121,
   "metadata": {},
   "outputs": [],
   "source": [
    "A = np.random.randint(101, size=100000)\n",
    "B = np.random.randint(101, size=100000)"
   ]
  },
  {
   "cell_type": "code",
   "execution_count": 122,
   "metadata": {},
   "outputs": [
    {
     "name": "stdout",
     "output_type": "stream",
     "text": [
      "0.2842404842376709\n"
     ]
    }
   ],
   "source": [
    "start = time()\n",
    "s760.FindAnagramMappings(A.tolist(),B.tolist())\n",
    "end = time()\n",
    "print((end-start))"
   ]
  },
  {
   "cell_type": "markdown",
   "metadata": {},
   "source": [
    "__chr(i)__: Return a string of one character whose ASCII code is the integer i. For example, chr(97) returns the string 'a'. This is the inverse of ord(). "
   ]
  },
  {
   "cell_type": "code",
   "execution_count": 131,
   "metadata": {},
   "outputs": [
    {
     "data": {
      "text/plain": [
       "32"
      ]
     },
     "execution_count": 131,
     "metadata": {},
     "output_type": "execute_result"
    }
   ],
   "source": [
    "ord('a')-ord('A')"
   ]
  },
  {
   "cell_type": "markdown",
   "metadata": {},
   "source": [
    "## 709. To Lower Case"
   ]
  },
  {
   "cell_type": "markdown",
   "metadata": {},
   "source": [
    "Implement function ToLowerCase() that has a string parameter str, and returns the same string in lowercase.\n",
    "\n",
    "Example 1:\n",
    "\n",
    "Input: \"Hello\"\n",
    "Output: \"hello\"\n",
    "\n",
    "Example 2:\n",
    "\n",
    "Input: \"here\"\n",
    "Output: \"here\"\n",
    "\n",
    "Example 3:\n",
    "\n",
    "Input: \"LOVELY\"\n",
    "Output: \"lovely\""
   ]
  },
  {
   "cell_type": "code",
   "execution_count": 216,
   "metadata": {},
   "outputs": [],
   "source": [
    "class solutions709:\n",
    "    def ToLowerCase(self, A):\n",
    "        '''\n",
    "        :type input: string\n",
    "        :rtype: string\n",
    "        '''\n",
    "        result = ''\n",
    "        for a in A:\n",
    "            if a >= 'A' and a <= 'Z':\n",
    "                result += chr(ord(a)+32)\n",
    "            else:\n",
    "                result += a\n",
    "        return result\n",
    "    \n",
    "    def ToLowerCaseLC(self, A):\n",
    "        return ''.join([chr(ord(a)+32) if a >= 'A' and a <= 'Z' else a for a in 'Apple'])"
   ]
  },
  {
   "cell_type": "code",
   "execution_count": 219,
   "metadata": {},
   "outputs": [
    {
     "data": {
      "text/plain": [
       "'apple'"
      ]
     },
     "execution_count": 219,
     "metadata": {},
     "output_type": "execute_result"
    }
   ],
   "source": [
    "s709 = solutions709()\n",
    "s709.ToLowerCaseLC('Apple')"
   ]
  },
  {
   "cell_type": "code",
   "execution_count": 222,
   "metadata": {},
   "outputs": [
    {
     "name": "stdout",
     "output_type": "stream",
     "text": [
      "0.25136375427246094\n"
     ]
    }
   ],
   "source": [
    "start = time()\n",
    "s709.ToLowerCaseLC('Apple'*100000000)\n",
    "end = time()\n",
    "print((end-start))"
   ]
  },
  {
   "cell_type": "code",
   "execution_count": 225,
   "metadata": {},
   "outputs": [
    {
     "name": "stdout",
     "output_type": "stream",
     "text": [
      "0.001994609832763672\n"
     ]
    }
   ],
   "source": [
    "start = time()\n",
    "s709.ToLowerCase('Apple'*1000)\n",
    "end = time()\n",
    "print((end-start)) "
   ]
  },
  {
   "cell_type": "markdown",
   "metadata": {},
   "source": [
    "## 804. Unique Morse Code Words"
   ]
  },
  {
   "cell_type": "markdown",
   "metadata": {},
   "source": [
    "International Morse Code defines a standard encoding where each letter is mapped to a series of dots and dashes, as follows: \"a\" maps to \".-\", \"b\" maps to \"-...\", \"c\" maps to \"-.-.\", and so on.\n",
    "\n",
    "For convenience, the full table for the 26 letters of the English alphabet is given below:"
   ]
  },
  {
   "cell_type": "markdown",
   "metadata": {},
   "source": [
    "[\".-\",\"-...\",\"-.-.\",\"-..\",\".\",\"..-.\",\"--.\",\"....\",\"..\",\".---\",\"-.-\",\".-..\",\"--\",\"-.\",\"---\",\".--.\",\"--.-\",\".-.\",\"...\",\"-\",\"..-\",\"...-\",\".--\",\"-..-\",\"-.--\",\"--..\"]"
   ]
  },
  {
   "cell_type": "markdown",
   "metadata": {},
   "source": [
    "Example:\n",
    "\n",
    "Input: words = [\"gin\", \"zen\", \"gig\", \"msg\"]\n",
    "\n",
    "Output: 2\n",
    "\n",
    "Explanation: \n",
    "\n",
    "The transformation of each word is:\n",
    "\n",
    "\"gin\" -> \"--...-.\"\n",
    "\n",
    "\"zen\" -> \"--...-.\"\n",
    "\n",
    "\"gig\" -> \"--...--.\"\n",
    "\n",
    "\"msg\" -> \"--...--.\"\n",
    "\n",
    "There are 2 different transformations, \"--...-.\" and \"--...--.\"."
   ]
  },
  {
   "cell_type": "code",
   "execution_count": 34,
   "metadata": {},
   "outputs": [],
   "source": [
    "class solution804:\n",
    "    def uniqueMorseRepresentations(self, words):\n",
    "        morseCodes = [\".-\", \"-...\", \"-.-.\", \"-..\", \".\", \"..-.\", \"--.\", \"....\", \"..\", \".---\", \"-.-\", \".-..\", \"--\", \"-.\", \"---\", \".--.\", \"--.-\", \".-.\", \"...\", \"-\", \"..-\", \"...-\", \".--\", \"-..-\", \"-.--\", \"--..\"]\n",
    "        return len(set([''.join(morseCodes[ord(w) - ord('a')] for w in word) for word in words]))"
   ]
  },
  {
   "cell_type": "code",
   "execution_count": 5,
   "metadata": {},
   "outputs": [],
   "source": [
    "codes = [\".-\", \"-...\", \"-.-.\", \"-..\", \".\", \"..-.\", \"--.\", \"....\", \"..\", \".---\", \"-.-\", \".-..\", \"--\", \"-.\", \"---\", \".--.\", \"--.-\", \".-.\", \"...\", \"-\", \"..-\", \"...-\", \".--\", \"-..-\", \"-.--\", \"--..\"]"
   ]
  },
  {
   "cell_type": "code",
   "execution_count": 18,
   "metadata": {},
   "outputs": [],
   "source": [
    "words = ['gin', 'zen', 'gig']"
   ]
  },
  {
   "cell_type": "code",
   "execution_count": 30,
   "metadata": {},
   "outputs": [],
   "source": [
    "values = [''.join(codes[ord(w)-ord('a')] for w in word) for word in words]"
   ]
  },
  {
   "cell_type": "code",
   "execution_count": 35,
   "metadata": {},
   "outputs": [
    {
     "data": {
      "text/plain": [
       "2"
      ]
     },
     "execution_count": 35,
     "metadata": {},
     "output_type": "execute_result"
    }
   ],
   "source": [
    "s804 = solution804()\n",
    "s804.uniqueMorseRepresentations(words)"
   ]
  },
  {
   "cell_type": "code",
   "execution_count": 8,
   "metadata": {},
   "outputs": [],
   "source": [
    "import string"
   ]
  },
  {
   "cell_type": "code",
   "execution_count": 14,
   "metadata": {},
   "outputs": [],
   "source": [
    "values = [i for i in str(bin(1 ^ 4)[2:])]"
   ]
  },
  {
   "cell_type": "code",
   "execution_count": 15,
   "metadata": {},
   "outputs": [
    {
     "data": {
      "text/plain": [
       "['1', '0', '1']"
      ]
     },
     "execution_count": 15,
     "metadata": {},
     "output_type": "execute_result"
    }
   ],
   "source": [
    "values"
   ]
  },
  {
   "cell_type": "markdown",
   "metadata": {},
   "source": [
    "## 461. Hamming Distance"
   ]
  },
  {
   "cell_type": "markdown",
   "metadata": {},
   "source": [
    "The Hamming distance between two integers is the number of positions at which the corresponding bits are different.\n",
    "\n",
    "Given two integers x and y, calculate the Hamming distance.\n",
    "\n",
    "Note:\n",
    "0 ≤ x, y < 231."
   ]
  },
  {
   "cell_type": "markdown",
   "metadata": {},
   "source": [
    "Example:\n",
    "\n",
    "Input: x = 1, y = 4\n",
    "\n",
    "Output: 2\n",
    "\n",
    "Explanation:\n",
    "\n",
    "1   (0 0 0 1)\n",
    "\n",
    "4   (0 1 0 0)\n",
    "\n",
    "       ↑   ↑\n",
    "\n",
    "The above arrows point to positions where the corresponding bits are different."
   ]
  },
  {
   "cell_type": "code",
   "execution_count": 19,
   "metadata": {},
   "outputs": [],
   "source": [
    "class Solution461:\n",
    "    def hammingDistance1(self, x, y):\n",
    "        \"\"\"\n",
    "        :type x: int\n",
    "        :type y: int\n",
    "        :rtype: int\n",
    "        \"\"\"\n",
    "        result = 0\n",
    "        values = [i for i in str(bin(x ^ y)[2:])]\n",
    "        for v in values:\n",
    "            if v == '1':\n",
    "                result += 1\n",
    "        return result\n",
    "    \n",
    "    def hammingDistance2(self, x, y):\n",
    "        \"\"\"\n",
    "        :type x: int\n",
    "        :type y: int\n",
    "        :rtype: int\n",
    "        \"\"\"\n",
    "        return bin(x^y).count(\"1\")"
   ]
  },
  {
   "cell_type": "markdown",
   "metadata": {},
   "source": [
    "## 657. Robot Return to Origin"
   ]
  },
  {
   "cell_type": "markdown",
   "metadata": {},
   "source": [
    "There is a robot starting at position (0, 0), the origin, on a 2D plane. Given a sequence of its moves, judge if this robot ends up at (0, 0) after it completes its moves.\n",
    "\n",
    "The move sequence is represented by a string, and the character moves[i] represents its ith move. Valid moves are R (right), L (left), U (up), and D (down). If the robot returns to the origin after it finishes all of its moves, return true. Otherwise, return false.\n",
    "\n",
    "Note: The way that the robot is \"facing\" is irrelevant. \"R\" will always make the robot move to the right once, \"L\" will always make it move left, etc. Also, assume that the magnitude of the robot's movement is the same for each move."
   ]
  },
  {
   "cell_type": "markdown",
   "metadata": {},
   "source": [
    "### Example 1:\n",
    "\n",
    "Input: \"UD\"\n",
    "\n",
    "Output: true \n",
    "\n",
    "Explanation: The robot moves up once, and then down once. All moves have the same magnitude, so it ended up at the origin where it started. Therefore, we return true."
   ]
  },
  {
   "cell_type": "markdown",
   "metadata": {},
   "source": [
    "### Example 2:"
   ]
  },
  {
   "cell_type": "markdown",
   "metadata": {},
   "source": [
    "Input: \"LL\"\n",
    "\n",
    "Output: false\n",
    "\n",
    "Explanation: The robot moves left twice. It ends up two \"moves\" to the left of the origin. We return false because it is not at the origin at the end of its moves."
   ]
  },
  {
   "cell_type": "code",
   "execution_count": 1,
   "metadata": {},
   "outputs": [],
   "source": [
    "class Solution657:\n",
    "    def judgeCircle(self, moves):\n",
    "        \"\"\"\n",
    "        :type moves: str\n",
    "        :rtype: bool\n",
    "        \"\"\"\n",
    "        return moves.count('L') == moves.count('R') and moves.count('U') == moves.count('D') "
   ]
  },
  {
   "cell_type": "markdown",
   "metadata": {},
   "source": [
    "## 832. Flipping an Image"
   ]
  },
  {
   "cell_type": "markdown",
   "metadata": {},
   "source": [
    "Given a binary matrix A, we want to flip the image horizontally, then invert it, and return the resulting image.\n",
    "\n",
    "To flip an image horizontally means that each row of the image is reversed.  For example, flipping [1, 1, 0] horizontally results in [0, 1, 1].\n",
    "\n",
    "To invert an image means that each 0 is replaced by 1, and each 1 is replaced by 0. For example, inverting [0, 1, 1] results in [1, 0, 0]."
   ]
  },
  {
   "cell_type": "markdown",
   "metadata": {},
   "source": [
    "### Example 1:\n",
    "\n",
    "Input: [[1,1,0],[1,0,1],[0,0,0]]\n",
    "\n",
    "Output: [[1,0,0],[0,1,0],[1,1,1]]\n",
    "\n",
    "Explanation: First reverse each row: [[0,1,1],[1,0,1],[0,0,0]].\n",
    "\n",
    "Then, invert the image: [[1,0,0],[0,1,0],[1,1,1]]\n",
    "\n",
    "### Example 2:\n",
    "\n",
    "Input: [[1,1,0,0],[1,0,0,1],[0,1,1,1],[1,0,1,0]]\n",
    "\n",
    "Output: [[1,1,0,0],[0,1,1,0],[0,0,0,1],[1,0,1,0]]\n",
    "\n",
    "Explanation: First reverse each row: [[0,0,1,1],[1,0,0,1],[1,1,1,0],[0,1,0,1]].\n",
    "\n",
    "Then invert the image: [[1,1,0,0],[0,1,1,0],[0,0,0,1],[1,0,1,0]]\n",
    "\n",
    "### Notes:\n",
    "\n",
    "1 <= A.length = A[0].length <= 20\n",
    "\n",
    "0 <= A[i][j] <= 1\n"
   ]
  },
  {
   "cell_type": "code",
   "execution_count": 9,
   "metadata": {},
   "outputs": [],
   "source": [
    "class Solutions832:\n",
    "    def flippingImage(self, A):\n",
    "        \"\"\"\n",
    "        :type A: List[List[int]]\n",
    "        :rtype: List[List[int]]\n",
    "        \"\"\"\n",
    "        return [[aa ^ 1 for aa in a[::-1]] for a in A]"
   ]
  },
  {
   "cell_type": "code",
   "execution_count": 10,
   "metadata": {},
   "outputs": [],
   "source": [
    "A = [[1,1,0],[1,0,1],[0,0,0]]"
   ]
  },
  {
   "cell_type": "code",
   "execution_count": 11,
   "metadata": {},
   "outputs": [],
   "source": [
    "s832 = Solutions832()"
   ]
  },
  {
   "cell_type": "code",
   "execution_count": 14,
   "metadata": {},
   "outputs": [
    {
     "data": {
      "text/plain": [
       "[[1, 0, 0], [0, 1, 0], [1, 1, 1]]"
      ]
     },
     "execution_count": 14,
     "metadata": {},
     "output_type": "execute_result"
    }
   ],
   "source": [
    "s832.flippingImage(A)"
   ]
  },
  {
   "cell_type": "markdown",
   "metadata": {},
   "source": [
    "## 561. Array Partition I"
   ]
  },
  {
   "cell_type": "markdown",
   "metadata": {},
   "source": [
    "Given an array of 2n integers, your task is to group these integers into n pairs of integer, say (a1, b1), (a2, b2), ..., (an, bn) which makes sum of min(ai, bi) for all i from 1 to n as large as possible.\n",
    "\n",
    "Example 1:\n",
    "\n",
    "Input: [1,4,3,2]\n",
    "\n",
    "Output: 4\n",
    "\n",
    "Explanation: n is 2, and the maximum sum of pairs is 4 = min(1, 2) + min(3, 4).\n",
    "\n",
    "Note:\n",
    "\n",
    "n is a positive integer, which is in the range of [1, 10000].\n",
    "\n",
    "All the integers in the array will be in the range of [-10000, 10000]."
   ]
  },
  {
   "cell_type": "code",
   "execution_count": 5,
   "metadata": {},
   "outputs": [],
   "source": [
    "class Solutions561:\n",
    "    def arrayPairSum1(self, nums):\n",
    "        \"\"\"\n",
    "        :type nums: list\n",
    "        :rtype: int\n",
    "        \"\"\"\n",
    "        return sum(num for i, num in enumerate(sorted(nums)) if i % 2 == 0)\n",
    "    \n",
    "    def arrayPairSum2(self, nums):\n",
    "        \"\"\"\n",
    "        :type nums: list\n",
    "        :rtype: int\n",
    "        \"\"\"\n",
    "        return sum(sorted(nums)[::2])"
   ]
  },
  {
   "cell_type": "code",
   "execution_count": 2,
   "metadata": {},
   "outputs": [],
   "source": [
    "nums = [1,3,2,4]"
   ]
  },
  {
   "cell_type": "code",
   "execution_count": 3,
   "metadata": {},
   "outputs": [
    {
     "name": "stdout",
     "output_type": "stream",
     "text": [
      "4\n",
      "4\n"
     ]
    }
   ],
   "source": [
    "s = Solution832()\n",
    "print(s.arrayPairSum1(nums))\n",
    "print(s.arrayPairSum2(nums))"
   ]
  },
  {
   "cell_type": "code",
   "execution_count": 48,
   "metadata": {},
   "outputs": [],
   "source": [
    "import math"
   ]
  },
  {
   "cell_type": "code",
   "execution_count": 52,
   "metadata": {},
   "outputs": [
    {
     "data": {
      "text/plain": [
       "2"
      ]
     },
     "execution_count": 52,
     "metadata": {},
     "output_type": "execute_result"
    }
   ],
   "source": [
    "int(math.log(110,10))"
   ]
  },
  {
   "cell_type": "code",
   "execution_count": 53,
   "metadata": {},
   "outputs": [
    {
     "data": {
      "text/plain": [
       "1000"
      ]
     },
     "execution_count": 53,
     "metadata": {},
     "output_type": "execute_result"
    }
   ],
   "source": [
    "10**3"
   ]
  },
  {
   "cell_type": "code",
   "execution_count": 59,
   "metadata": {},
   "outputs": [],
   "source": [
    "a = 1000"
   ]
  },
  {
   "cell_type": "code",
   "execution_count": 61,
   "metadata": {},
   "outputs": [
    {
     "data": {
      "text/plain": [
       "1"
      ]
     },
     "execution_count": 61,
     "metadata": {},
     "output_type": "execute_result"
    }
   ],
   "source": [
    "str(a).find('0')"
   ]
  },
  {
   "cell_type": "code",
   "execution_count": 6,
   "metadata": {},
   "outputs": [
    {
     "data": {
      "text/plain": [
       "[1, 3, 2, 4]"
      ]
     },
     "execution_count": 6,
     "metadata": {},
     "output_type": "execute_result"
    }
   ],
   "source": [
    "nums"
   ]
  },
  {
   "cell_type": "code",
   "execution_count": 7,
   "metadata": {},
   "outputs": [
    {
     "data": {
      "text/plain": [
       "[4, 2, 3, 1]"
      ]
     },
     "execution_count": 7,
     "metadata": {},
     "output_type": "execute_result"
    }
   ],
   "source": [
    "nums[::-1]"
   ]
  },
  {
   "cell_type": "code",
   "execution_count": null,
   "metadata": {},
   "outputs": [],
   "source": []
  }
 ],
 "metadata": {
  "kernelspec": {
   "display_name": "Python 3",
   "language": "python",
   "name": "python3"
  },
  "language_info": {
   "codemirror_mode": {
    "name": "ipython",
    "version": 3
   },
   "file_extension": ".py",
   "mimetype": "text/x-python",
   "name": "python",
   "nbconvert_exporter": "python",
   "pygments_lexer": "ipython3",
   "version": "3.6.5"
  }
 },
 "nbformat": 4,
 "nbformat_minor": 2
}
