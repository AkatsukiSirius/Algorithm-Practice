{
 "cells": [
  {
   "cell_type": "markdown",
   "metadata": {},
   "source": [
    "# Variable Reference"
   ]
  },
  {
   "cell_type": "markdown",
   "metadata": {},
   "source": [
    "## immutable"
   ]
  },
  {
   "cell_type": "code",
   "execution_count": 25,
   "metadata": {},
   "outputs": [],
   "source": [
    "def fun(a):\n",
    "    print(\"func_in : \",id(a))   # func_in 41322472\n",
    "    a = 2\n",
    "    print(\"re-point\",id(a), id(2), \"; value: \", a)   # re-point 41322448 41322448\n",
    "    return id(a)"
   ]
  },
  {
   "cell_type": "code",
   "execution_count": 26,
   "metadata": {},
   "outputs": [
    {
     "name": "stdout",
     "output_type": "stream",
     "text": [
      "previous address:  140721442558784 ; value:  1\n",
      "func_in :  140721442558784\n",
      "re-point 140721442558816 140721442558816 ; value:  2\n",
      "internal address:  140721442558816 ; value:  1\n",
      "current address:  140721442558784 ; value:  1\n",
      "address changed\n"
     ]
    }
   ],
   "source": [
    "a = 1\n",
    "pre_addr = id(a)\n",
    "print(\"previous address: \", pre_addr, \"; value: \", a)\n",
    "internal = fun(a)\n",
    "print(\"internal address: \", internal, \"; value: \", a)\n",
    "cur_addr = id(a)\n",
    "print(\"current address: \", cur_addr, \"; value: \", a)\n",
    "\n",
    "if pre_addr == internal:\n",
    "    print(\"address unchanged\")\n",
    "else:\n",
    "    print(\"address changed\")"
   ]
  },
  {
   "cell_type": "code",
   "execution_count": 20,
   "metadata": {},
   "outputs": [],
   "source": [
    "def fun(a):\n",
    "    print(\"func_in : \",id(a))   # func_in 41322472\n",
    "    a = 2\n",
    "    print(\"re-point\",id(a), id(2), \"; value: \", a)   # re-point 41322448 41322448\n",
    "    return a"
   ]
  },
  {
   "cell_type": "code",
   "execution_count": 21,
   "metadata": {},
   "outputs": [
    {
     "name": "stdout",
     "output_type": "stream",
     "text": [
      "previous address:  140721442558784 ; value:  1\n",
      "func_in :  140721442558784\n",
      "re-point 140721442558816 140721442558816 ; value:  2\n",
      "current address:  140721442558784 ; value:  1\n",
      "address unchanged\n"
     ]
    }
   ],
   "source": [
    "a = 1\n",
    "pre_addr = id(a)\n",
    "print(\"previous address: \", id(a), \"; value: \", a)\n",
    "fun(a)\n",
    "cur_addr = id(a)\n",
    "print(\"current address: \", id(a), \"; value: \", a)\n",
    "\n",
    "if pre_addr == cur_addr:\n",
    "    print(\"address unchanged\")\n",
    "else:\n",
    "    print(\"address changed\")"
   ]
  },
  {
   "cell_type": "markdown",
   "metadata": {},
   "source": [
    "## mutable"
   ]
  },
  {
   "cell_type": "code",
   "execution_count": 30,
   "metadata": {},
   "outputs": [],
   "source": [
    "def fun(a):\n",
    "    print(\"func_in: \", id(a),\"; value: \", a)\n",
    "    a.append(1)\n",
    "    print(\"re-point: \", id(a), \"; value:\", a)\n",
    "    return id(a)"
   ]
  },
  {
   "cell_type": "code",
   "execution_count": 31,
   "metadata": {},
   "outputs": [
    {
     "name": "stdout",
     "output_type": "stream",
     "text": [
      "previous address:  2426929397896 ; value: []\n",
      "func_in:  2426929397896 ; value:  []\n",
      "re-point:  2426929397896 ; value: [1]\n",
      "internal address:  2426929397896 ; value: [1]\n",
      "current address:  2426929397896 ; value: [1]\n",
      "address unchanged\n"
     ]
    }
   ],
   "source": [
    "a = []\n",
    "pre_addr = id(a)\n",
    "print(\"previous address: \", pre_addr, \"; value:\", a)\n",
    "internal = fun(a)\n",
    "print(\"internal address: \", internal, \"; value:\", a)\n",
    "cur_addr = id(a)\n",
    "print(\"current address: \", cur_addr, \"; value:\", a)\n",
    "\n",
    "if pre_addr == internal:\n",
    "    print(\"address unchanged\")\n",
    "else:\n",
    "    print(\"address changed\")"
   ]
  },
  {
   "cell_type": "markdown",
   "metadata": {},
   "source": [
    "# [Metaclass](https://realpython.com/python-metaclasses/)"
   ]
  },
  {
   "cell_type": "markdown",
   "metadata": {},
   "source": [
    "The class of a class. \n",
    "\n",
    "Class definitions create:\n",
    "\n",
    "- a class name, \n",
    "\n",
    "- a class dictionary, and \n",
    "\n",
    "- a list of base classes. \n",
    "\n",
    "The metaclass is responsible for taking those three arguments and creating the class. \n",
    "\n",
    "Most object oriented programming languages provide a default implementation. \n",
    "\n",
    "What makes Python special is that it is possible to create custom metaclasses. \n",
    "\n",
    "Most users never need this tool, but when the need arises, metaclasses can provide powerful, elegant solutions. \n",
    "\n",
    "They have been used for \n",
    "\n",
    "- logging attribute access, \n",
    "\n",
    "- adding thread-safety, \n",
    "\n",
    "- tracking object creation, \n",
    "\n",
    "- implementing singletons, and many other tasks."
   ]
  },
  {
   "cell_type": "markdown",
   "metadata": {},
   "source": [
    "## \\_\\_new__ vs. \\_\\_init__"
   ]
  },
  {
   "cell_type": "markdown",
   "metadata": {},
   "source": [
    "- \\_\\_new__ is invoked before \\_\\_init__\n",
    "\n",
    "- \\_\\_new__ is used to create object of current class and then, invoke \\_\\_init__\n",
    "\n",
    "- \\_\\_new__ contains no return -> \\_\\_init__ will not be invoked\n",
    "\n",
    "- \\_\\_init__ is used to initialize object during the creation of a class\n",
    "\n",
    "- \\_\\_new__ to control and custom class\n",
    "\n",
    "Use \\_\\_new__ when you need to control the creation of a new instance, constructor, (subclassing an immutable type like str, int, unicode or tuple). \n",
    "\n",
    "Use \\_\\_init__ when you need to control initialization of a new instance, initializer."
   ]
  },
  {
   "cell_type": "markdown",
   "metadata": {},
   "source": [
    "Always use self for the first argument to instance methods.\n",
    "\n",
    "Always use cls for the first argument to class methods."
   ]
  },
  {
   "cell_type": "code",
   "execution_count": 59,
   "metadata": {},
   "outputs": [],
   "source": [
    "class A(object):\n",
    "    \n",
    "    def __new__(cls):\n",
    "        print(\"A.__new__ is called\")  # -> this is never called\n",
    "        return super(A, cls).__new__(cls)\n",
    "        \n",
    "    def __init__(self):\n",
    "        print(\"A.__init__ called\")\n",
    "        "
   ]
  },
  {
   "cell_type": "code",
   "execution_count": 61,
   "metadata": {},
   "outputs": [
    {
     "name": "stdout",
     "output_type": "stream",
     "text": [
      "A.__new__ is called\n",
      "A.__init__ called\n",
      "<__main__.A object at 0x00000235104C7080>\n"
     ]
    }
   ],
   "source": [
    "A()"
   ]
  },
  {
   "cell_type": "markdown",
   "metadata": {},
   "source": [
    "## super()"
   ]
  },
  {
   "cell_type": "markdown",
   "metadata": {},
   "source": [
    "## type()"
   ]
  },
  {
   "cell_type": "code",
   "execution_count": 65,
   "metadata": {},
   "outputs": [
    {
     "name": "stdout",
     "output_type": "stream",
     "text": [
      "<class 'type'>\n",
      "<class 'type'>\n",
      "<class 'type'>\n",
      "<class 'type'>\n",
      "<class 'type'>\n",
      "<class 'type'>\n"
     ]
    }
   ],
   "source": [
    "for t in int, float, dict, list, tuple, type:\n",
    "    print(type(t))"
   ]
  },
  {
   "cell_type": "code",
   "execution_count": 66,
   "metadata": {},
   "outputs": [],
   "source": [
    "class Foo:\n",
    "    pass"
   ]
  },
  {
   "cell_type": "code",
   "execution_count": 67,
   "metadata": {},
   "outputs": [],
   "source": [
    "x = Foo()"
   ]
  },
  {
   "cell_type": "code",
   "execution_count": 68,
   "metadata": {},
   "outputs": [
    {
     "data": {
      "text/plain": [
       "__main__.Foo"
      ]
     },
     "execution_count": 68,
     "metadata": {},
     "output_type": "execute_result"
    }
   ],
   "source": [
    "type(x)"
   ]
  },
  {
   "cell_type": "code",
   "execution_count": 69,
   "metadata": {},
   "outputs": [
    {
     "data": {
      "text/plain": [
       "type"
      ]
     },
     "execution_count": 69,
     "metadata": {},
     "output_type": "execute_result"
    }
   ],
   "source": [
    "type(Foo)"
   ]
  },
  {
   "cell_type": "markdown",
   "metadata": {},
   "source": [
    "# [Compilers and Interpreters](https://hackernoon.com/compilers-and-interpreters-3e354a2e41cf)"
   ]
  },
  {
   "cell_type": "markdown",
   "metadata": {},
   "source": [
    "## Compiler"
   ]
  },
  {
   "cell_type": "markdown",
   "metadata": {},
   "source": [
    "The simplest definition of a compiler is a program that translates code written in a high-level programming language (like JavaScript or Java) into low-level code (like Assembly) directly executable by the computer or another program such as a virtual machine."
   ]
  },
  {
   "cell_type": "markdown",
   "metadata": {},
   "source": [
    "### front end (lexical analysis, syntax analysis, semantic analysis and intermediate code generation)\n",
    "\n",
    "- scans the submitted source code for syntax errors, checks (and infers if necessary) the type of each declared variable and ensures that each variable is declared before use. If there is any error, it provides informative error messages to the user.\n",
    "\n",
    "- symbol table, a data structure which contains information about all the symbols found in the source code. \n",
    "\n",
    "- intermediate representation of the code, (if no error is detected) is built from the source code and passed as input to the second part."
   ]
  },
  {
   "cell_type": "markdown",
   "metadata": {},
   "source": [
    "#### Lexical Analysis"
   ]
  },
  {
   "cell_type": "markdown",
   "metadata": {},
   "source": [
    "compiler breaks the submitted source code into meaningful elements called lexemes and generates a sequence of tokens from the lexemes.\n",
    "\n",
    "- lexeme, a uniquely identifiable string of characters in the source programming language, \n",
    "\n",
    "    - e.g. if, while or func, identifiers, strings, numbers, operators or single characters like (, ), . or :\n",
    "    \n",
    "- token, an object describing a lexeme. Along with the value of the lexeme (the actual string of characters of the lexeme), contains\n",
    "\n",
    "    - information such as its type (is it a keyword? an identifier? an operator? …)\n",
    "    \n",
    "    - the position (line and/or column number) in the source code where it appears.\n",
    "    \n",
    "    - if fail to create a token, it will stop its execution by throwing an error"
   ]
  },
  {
   "cell_type": "markdown",
   "metadata": {},
   "source": [
    "#### Syntax Analysis\n",
    "\n",
    "During syntax analysis, the compiler uses the sequence of tokens generated during the lexical analysis to generate a tree-like data structure called Abstract Syntax Tree, AST for short. \n",
    "\n",
    "- The AST reflects the syntactic and logical structure of the program.\n",
    "\n",
    "- Abstract Syntax Tree generated after syntax analysis"
   ]
  },
  {
   "cell_type": "markdown",
   "metadata": {},
   "source": [
    "#### Semantic Analysis\n",
    "\n",
    "During semantic analysis, the compiler uses the AST generated during syntax analysis to check if the program is consistent with all the rules of the source programming language. Semantic analysis encompasses\n",
    "\n",
    "- Type Inference:\n",
    "\n",
    "    - automatic deduction of the data types of specific expressions in a programming language, usually done at compile time. \n",
    "    \n",
    "    - It involves analyzing a program and then inferring the different types of some or all expressions in that program so that the programmer does not need to explicitly input and define data types every time variables are used in the program.\n",
    "    \n",
    "- Type checking:\n",
    "    \n",
    "- Symbol management:\n",
    "\n",
    "    - symbol table, contains information about all the symbols (or names) encountered in the program.\n",
    "    \n",
    "        - Is this variable declared before use?\n",
    "        \n",
    "        - Are there 2 variables with the same name in the same scope? \n",
    "        \n",
    "        - What is the type of this variable? \n",
    "        \n",
    "        - Is this variable available in the current scope?"
   ]
  },
  {
   "cell_type": "markdown",
   "metadata": {},
   "source": [
    "The output of the semantic analysis phase is an annotated AST and the symbol table."
   ]
  },
  {
   "cell_type": "markdown",
   "metadata": {},
   "source": [
    "#### Intermediate Code Generation"
   ]
  },
  {
   "cell_type": "markdown",
   "metadata": {},
   "source": [
    "After the semantic analysis phase, the compiler uses the annotated AST to generate an intermediate and machine-independent low-level code. (e.g. three-address code)"
   ]
  },
  {
   "cell_type": "markdown",
   "metadata": {},
   "source": [
    "The three-address code (3AC), in its simplest form, is a language in which an instruction is an assignment and has at most 3 operands.\n",
    "\n",
    "Most instructions in 3AC are of the form a := b $<operator>$ c or a := b.\n",
    "\n",
    "The intermediate code generation concludes the front end phase of the compiler."
   ]
  },
  {
   "cell_type": "markdown",
   "metadata": {},
   "source": [
    "### back end (optimization and code generation)\n",
    "\n",
    "- uses the intermediate representation and the symbol table built by the front end to generate low-level code."
   ]
  },
  {
   "cell_type": "markdown",
   "metadata": {},
   "source": [
    "#### Optimization\n",
    "\n",
    "- simply the iternediate code"
   ]
  },
  {
   "cell_type": "markdown",
   "metadata": {},
   "source": [
    "#### Code Generation\n",
    "\n",
    "- generate assembly (or other low - level code)"
   ]
  },
  {
   "cell_type": "markdown",
   "metadata": {},
   "source": [
    "## [Interperator](https://www.cnblogs.com/sword03/archive/2010/06/27/1766147.html)"
   ]
  },
  {
   "cell_type": "markdown",
   "metadata": {},
   "source": [
    "- an interpreter directly executes the instructions in the source programming language while a compiler translates those instructions into efficient machine code.\n",
    "\n",
    "- An interpreter will typically generate an efficient intermediate representation and immediately evaluate it. \n",
    "\n",
    "- Depending on the interpreter, the intermediate representation can be an AST, an annotated AST or a machine-independent low-level representation such as the three-address code."
   ]
  },
  {
   "cell_type": "markdown",
   "metadata": {},
   "source": [
    "# decorator "
   ]
  },
  {
   "cell_type": "markdown",
   "metadata": {},
   "source": [
    "- to modify the behavior of function or class. \n",
    "\n",
    "- to wrap another function in order to extend the behavior of wrapped function, without permanently modifying it.\n",
    "\n",
    "In Decorators, functions are taken as the argument into another function and then called inside the wrapper function."
   ]
  },
  {
   "cell_type": "markdown",
   "metadata": {},
   "source": [
    "# [Code introspection](https://www.geeksforgeeks.org/code-introspection-in-python/)"
   ]
  },
  {
   "cell_type": "markdown",
   "metadata": {},
   "source": [
    "- ability to determine the type of an object at runtime;\n",
    "\n",
    "- we can dynamically examine python objects.\n",
    "\n",
    "- used for examining the classes, methods, objects, modules, keywords and get information about them"
   ]
  },
  {
   "cell_type": "markdown",
   "metadata": {},
   "source": [
    "## [Example](http://zetcode.com/lang/python/introspection/)"
   ]
  },
  {
   "cell_type": "markdown",
   "metadata": {},
   "source": [
    "# Name Mangling"
   ]
  },
  {
   "cell_type": "markdown",
   "metadata": {},
   "source": [
    "## [Single Underscore(leading)](https://www.python.org/dev/peps/pep-0008/)\n",
    "\n",
    "- Names, in a class, with a leading underscore are simply to indicate to other programmers that the attribute or method is intended to be private."
   ]
  },
  {
   "cell_type": "markdown",
   "metadata": {},
   "source": [
    "## [Double Underscore(Name Mangling)](https://docs.python.org/3/tutorial/classes.html#private-variables)"
   ]
  },
  {
   "cell_type": "code",
   "execution_count": null,
   "metadata": {},
   "outputs": [],
   "source": []
  },
  {
   "cell_type": "markdown",
   "metadata": {},
   "source": [
    "# [Iterables / Generators /yield](https://stackoverflow.com/questions/231767/what-does-the-yield-keyword-do)"
   ]
  },
  {
   "cell_type": "markdown",
   "metadata": {},
   "source": [
    "## Iterables\n",
    "\n",
    "- list comprehension\n",
    "\n",
    "- store in memory"
   ]
  },
  {
   "cell_type": "code",
   "execution_count": 1,
   "metadata": {},
   "outputs": [],
   "source": [
    "mylist = [x*x for x in range(3)]"
   ]
  },
  {
   "cell_type": "code",
   "execution_count": 4,
   "metadata": {},
   "outputs": [
    {
     "name": "stdout",
     "output_type": "stream",
     "text": [
      "0 140712269091616\n",
      "1 140712269091648\n",
      "4 140712269091744\n"
     ]
    }
   ],
   "source": [
    "for i in mylist:\n",
    "    print(i, id(i))"
   ]
  },
  {
   "cell_type": "code",
   "execution_count": 7,
   "metadata": {},
   "outputs": [
    {
     "data": {
      "text/plain": [
       "1980843601672"
      ]
     },
     "execution_count": 7,
     "metadata": {},
     "output_type": "execute_result"
    }
   ],
   "source": [
    "id(mylist)"
   ]
  },
  {
   "cell_type": "code",
   "execution_count": 57,
   "metadata": {},
   "outputs": [
    {
     "data": {
      "text/plain": [
       "list"
      ]
     },
     "execution_count": 57,
     "metadata": {},
     "output_type": "execute_result"
    }
   ],
   "source": [
    "type(mylist)"
   ]
  },
  {
   "cell_type": "markdown",
   "metadata": {},
   "source": [
    "## Generator"
   ]
  },
  {
   "cell_type": "markdown",
   "metadata": {},
   "source": [
    "- Generators are iterators, a kind of iterable you can only iterate over once. \n",
    "\n",
    "- Generators do not store all the values in memory, they generate the values on the fly.\n",
    "\n",
    "- Cannot perform for i in mygenerator a second time since generators can only be used once\n",
    "\n",
    "    - they calculate 0, then forget about it and calculate 1, and end calculating 4, one by one."
   ]
  },
  {
   "cell_type": "code",
   "execution_count": 5,
   "metadata": {},
   "outputs": [],
   "source": [
    "mygenerator = (x*x for x in range(3))"
   ]
  },
  {
   "cell_type": "code",
   "execution_count": 10,
   "metadata": {},
   "outputs": [],
   "source": [
    "for i in mygenerator:\n",
    "    print(i, id(i))"
   ]
  },
  {
   "cell_type": "code",
   "execution_count": 11,
   "metadata": {},
   "outputs": [
    {
     "data": {
      "text/plain": [
       "1980844239152"
      ]
     },
     "execution_count": 11,
     "metadata": {},
     "output_type": "execute_result"
    }
   ],
   "source": [
    "id(mygenerator)"
   ]
  },
  {
   "cell_type": "code",
   "execution_count": 56,
   "metadata": {},
   "outputs": [
    {
     "data": {
      "text/plain": [
       "generator"
      ]
     },
     "execution_count": 56,
     "metadata": {},
     "output_type": "execute_result"
    }
   ],
   "source": [
    "type(mygenerator)"
   ]
  },
  {
   "cell_type": "markdown",
   "metadata": {},
   "source": [
    "## [yield](https://www.ibm.com/developerworks/cn/opensource/os-cn-python-yield/)"
   ]
  },
  {
   "cell_type": "markdown",
   "metadata": {},
   "source": [
    "yield is a keyword that is used like return, except the function will return a generator."
   ]
  },
  {
   "cell_type": "markdown",
   "metadata": {},
   "source": [
    "### Example - Fibonacci"
   ]
  },
  {
   "cell_type": "code",
   "execution_count": 48,
   "metadata": {},
   "outputs": [],
   "source": [
    "def fib(n):\n",
    "    val_pre1 = -1\n",
    "    val_pre2 = 1\n",
    "    for i in range(n):\n",
    "        val_cur = val_pre1 + val_pre2\n",
    "        print(i, val_cur)\n",
    "        val_pre1 = val_pre2\n",
    "        val_pre2 = val_cur"
   ]
  },
  {
   "cell_type": "markdown",
   "metadata": {},
   "source": [
    "#### To improve reusability - return list"
   ]
  },
  {
   "cell_type": "code",
   "execution_count": 54,
   "metadata": {},
   "outputs": [],
   "source": [
    "def fib(n):\n",
    "    val_pre1 = -1\n",
    "    val_pre2 = 1\n",
    "    l = []\n",
    "    for i in range(n):\n",
    "        val_cur = val_pre1 + val_pre2\n",
    "        l.append(val_cur)\n",
    "        val_pre1 = val_pre2\n",
    "        val_pre2 = val_cur\n",
    "    return l"
   ]
  },
  {
   "cell_type": "markdown",
   "metadata": {},
   "source": [
    "#### To save memory - yield"
   ]
  },
  {
   "cell_type": "code",
   "execution_count": null,
   "metadata": {},
   "outputs": [],
   "source": []
  }
 ],
 "metadata": {
  "kernelspec": {
   "display_name": "Python 3",
   "language": "python",
   "name": "python3"
  },
  "language_info": {
   "codemirror_mode": {
    "name": "ipython",
    "version": 3
   },
   "file_extension": ".py",
   "mimetype": "text/x-python",
   "name": "python",
   "nbconvert_exporter": "python",
   "pygments_lexer": "ipython3",
   "version": "3.7.3"
  }
 },
 "nbformat": 4,
 "nbformat_minor": 2
}
