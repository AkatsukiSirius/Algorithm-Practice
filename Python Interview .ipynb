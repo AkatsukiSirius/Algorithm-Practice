{
 "cells": [
  {
   "cell_type": "markdown",
   "metadata": {},
   "source": [
    "# Variable Reference"
   ]
  },
  {
   "cell_type": "markdown",
   "metadata": {},
   "source": [
    "## immutable"
   ]
  },
  {
   "cell_type": "code",
   "execution_count": 25,
   "metadata": {},
   "outputs": [],
   "source": [
    "def fun(a):\n",
    "    print(\"func_in : \",id(a))   # func_in 41322472\n",
    "    a = 2\n",
    "    print(\"re-point\",id(a), id(2), \"; value: \", a)   # re-point 41322448 41322448\n",
    "    return id(a)"
   ]
  },
  {
   "cell_type": "code",
   "execution_count": 26,
   "metadata": {},
   "outputs": [
    {
     "name": "stdout",
     "output_type": "stream",
     "text": [
      "previous address:  140721442558784 ; value:  1\n",
      "func_in :  140721442558784\n",
      "re-point 140721442558816 140721442558816 ; value:  2\n",
      "internal address:  140721442558816 ; value:  1\n",
      "current address:  140721442558784 ; value:  1\n",
      "address changed\n"
     ]
    }
   ],
   "source": [
    "a = 1\n",
    "pre_addr = id(a)\n",
    "print(\"previous address: \", pre_addr, \"; value: \", a)\n",
    "internal = fun(a)\n",
    "print(\"internal address: \", internal, \"; value: \", a)\n",
    "cur_addr = id(a)\n",
    "print(\"current address: \", cur_addr, \"; value: \", a)\n",
    "\n",
    "if pre_addr == internal:\n",
    "    print(\"address unchanged\")\n",
    "else:\n",
    "    print(\"address changed\")"
   ]
  },
  {
   "cell_type": "code",
   "execution_count": 20,
   "metadata": {},
   "outputs": [],
   "source": [
    "def fun(a):\n",
    "    print(\"func_in : \",id(a))   # func_in 41322472\n",
    "    a = 2\n",
    "    print(\"re-point\",id(a), id(2), \"; value: \", a)   # re-point 41322448 41322448\n",
    "    return a"
   ]
  },
  {
   "cell_type": "code",
   "execution_count": 21,
   "metadata": {},
   "outputs": [
    {
     "name": "stdout",
     "output_type": "stream",
     "text": [
      "previous address:  140721442558784 ; value:  1\n",
      "func_in :  140721442558784\n",
      "re-point 140721442558816 140721442558816 ; value:  2\n",
      "current address:  140721442558784 ; value:  1\n",
      "address unchanged\n"
     ]
    }
   ],
   "source": [
    "a = 1\n",
    "pre_addr = id(a)\n",
    "print(\"previous address: \", id(a), \"; value: \", a)\n",
    "fun(a)\n",
    "cur_addr = id(a)\n",
    "print(\"current address: \", id(a), \"; value: \", a)\n",
    "\n",
    "if pre_addr == cur_addr:\n",
    "    print(\"address unchanged\")\n",
    "else:\n",
    "    print(\"address changed\")"
   ]
  },
  {
   "cell_type": "markdown",
   "metadata": {},
   "source": [
    "## mutable"
   ]
  },
  {
   "cell_type": "code",
   "execution_count": 30,
   "metadata": {},
   "outputs": [],
   "source": [
    "def fun(a):\n",
    "    print(\"func_in: \", id(a),\"; value: \", a)\n",
    "    a.append(1)\n",
    "    print(\"re-point: \", id(a), \"; value:\", a)\n",
    "    return id(a)"
   ]
  },
  {
   "cell_type": "code",
   "execution_count": 31,
   "metadata": {},
   "outputs": [
    {
     "name": "stdout",
     "output_type": "stream",
     "text": [
      "previous address:  2426929397896 ; value: []\n",
      "func_in:  2426929397896 ; value:  []\n",
      "re-point:  2426929397896 ; value: [1]\n",
      "internal address:  2426929397896 ; value: [1]\n",
      "current address:  2426929397896 ; value: [1]\n",
      "address unchanged\n"
     ]
    }
   ],
   "source": [
    "a = []\n",
    "pre_addr = id(a)\n",
    "print(\"previous address: \", pre_addr, \"; value:\", a)\n",
    "internal = fun(a)\n",
    "print(\"internal address: \", internal, \"; value:\", a)\n",
    "cur_addr = id(a)\n",
    "print(\"current address: \", cur_addr, \"; value:\", a)\n",
    "\n",
    "if pre_addr == internal:\n",
    "    print(\"address unchanged\")\n",
    "else:\n",
    "    print(\"address changed\")"
   ]
  },
  {
   "cell_type": "markdown",
   "metadata": {},
   "source": [
    "# [Metaclass](https://realpython.com/python-metaclasses/)"
   ]
  },
  {
   "cell_type": "markdown",
   "metadata": {},
   "source": [
    "The class of a class. \n",
    "\n",
    "Class definitions create:\n",
    "\n",
    "- a class name, \n",
    "\n",
    "- a class dictionary, and \n",
    "\n",
    "- a list of base classes. \n",
    "\n",
    "The metaclass is responsible for taking those three arguments and creating the class. \n",
    "\n",
    "Most object oriented programming languages provide a default implementation. \n",
    "\n",
    "What makes Python special is that it is possible to create custom metaclasses. \n",
    "\n",
    "Most users never need this tool, but when the need arises, metaclasses can provide powerful, elegant solutions. \n",
    "\n",
    "They have been used for \n",
    "\n",
    "- logging attribute access, \n",
    "\n",
    "- adding thread-safety, \n",
    "\n",
    "- tracking object creation, \n",
    "\n",
    "- implementing singletons, and many other tasks."
   ]
  },
  {
   "cell_type": "markdown",
   "metadata": {},
   "source": [
    "## \\_\\_new__ vs. \\_\\_init__"
   ]
  },
  {
   "cell_type": "markdown",
   "metadata": {},
   "source": [
    "- \\_\\_new__ is invoked before \\_\\_init__\n",
    "\n",
    "- \\_\\_new__ is used to create object of current class and then, invoke \\_\\_init__\n",
    "\n",
    "- \\_\\_new__ contains no return -> \\_\\_init__ will not be invoked\n",
    "\n",
    "- \\_\\_init__ is used to initialize object during the creation of a class\n",
    "\n",
    "- \\_\\_new__ to control and custom class\n",
    "\n",
    "Use \\_\\_new__ when you need to control the creation of a new instance, constructor, (subclassing an immutable type like str, int, unicode or tuple). \n",
    "\n",
    "Use \\_\\_init__ when you need to control initialization of a new instance, initializer."
   ]
  },
  {
   "cell_type": "markdown",
   "metadata": {},
   "source": [
    "Always use self for the first argument to instance methods.\n",
    "\n",
    "Always use cls for the first argument to class methods."
   ]
  },
  {
   "cell_type": "code",
   "execution_count": 59,
   "metadata": {},
   "outputs": [],
   "source": [
    "class A(object):\n",
    "    \n",
    "    def __new__(cls):\n",
    "        print(\"A.__new__ is called\")  # -> this is never called\n",
    "        return super(A, cls).__new__(cls)\n",
    "        \n",
    "    def __init__(self):\n",
    "        print(\"A.__init__ called\")\n",
    "        "
   ]
  },
  {
   "cell_type": "code",
   "execution_count": 61,
   "metadata": {},
   "outputs": [
    {
     "name": "stdout",
     "output_type": "stream",
     "text": [
      "A.__new__ is called\n",
      "A.__init__ called\n",
      "<__main__.A object at 0x00000235104C7080>\n"
     ]
    }
   ],
   "source": [
    "A()"
   ]
  },
  {
   "cell_type": "markdown",
   "metadata": {},
   "source": [
    "## super()"
   ]
  },
  {
   "cell_type": "markdown",
   "metadata": {},
   "source": [
    "## type()"
   ]
  },
  {
   "cell_type": "code",
   "execution_count": 65,
   "metadata": {},
   "outputs": [
    {
     "name": "stdout",
     "output_type": "stream",
     "text": [
      "<class 'type'>\n",
      "<class 'type'>\n",
      "<class 'type'>\n",
      "<class 'type'>\n",
      "<class 'type'>\n",
      "<class 'type'>\n"
     ]
    }
   ],
   "source": [
    "for t in int, float, dict, list, tuple, type:\n",
    "    print(type(t))"
   ]
  },
  {
   "cell_type": "code",
   "execution_count": 66,
   "metadata": {},
   "outputs": [],
   "source": [
    "class Foo:\n",
    "    pass"
   ]
  },
  {
   "cell_type": "code",
   "execution_count": 67,
   "metadata": {},
   "outputs": [],
   "source": [
    "x = Foo()"
   ]
  },
  {
   "cell_type": "code",
   "execution_count": 68,
   "metadata": {},
   "outputs": [
    {
     "data": {
      "text/plain": [
       "__main__.Foo"
      ]
     },
     "execution_count": 68,
     "metadata": {},
     "output_type": "execute_result"
    }
   ],
   "source": [
    "type(x)"
   ]
  },
  {
   "cell_type": "code",
   "execution_count": 69,
   "metadata": {},
   "outputs": [
    {
     "data": {
      "text/plain": [
       "type"
      ]
     },
     "execution_count": 69,
     "metadata": {},
     "output_type": "execute_result"
    }
   ],
   "source": [
    "type(Foo)"
   ]
  },
  {
   "cell_type": "markdown",
   "metadata": {},
   "source": [
    "# [Compilers and Interpreters](https://hackernoon.com/compilers-and-interpreters-3e354a2e41cf)"
   ]
  },
  {
   "cell_type": "markdown",
   "metadata": {},
   "source": [
    "## Compiler"
   ]
  },
  {
   "cell_type": "markdown",
   "metadata": {},
   "source": [
    "The simplest definition of a compiler is a program that translates code written in a high-level programming language (like JavaScript or Java) into low-level code (like Assembly) directly executable by the computer or another program such as a virtual machine."
   ]
  },
  {
   "cell_type": "markdown",
   "metadata": {},
   "source": [
    "### front end (lexical analysis, syntax analysis, semantic analysis and intermediate code generation)\n",
    "\n",
    "- scans the submitted source code for syntax errors, checks (and infers if necessary) the type of each declared variable and ensures that each variable is declared before use. If there is any error, it provides informative error messages to the user.\n",
    "\n",
    "- symbol table, a data structure which contains information about all the symbols found in the source code. \n",
    "\n",
    "- intermediate representation of the code, (if no error is detected) is built from the source code and passed as input to the second part."
   ]
  },
  {
   "cell_type": "markdown",
   "metadata": {},
   "source": [
    "#### Lexical Analysis"
   ]
  },
  {
   "cell_type": "markdown",
   "metadata": {},
   "source": [
    "compiler breaks the submitted source code into meaningful elements called lexemes and generates a sequence of tokens from the lexemes.\n",
    "\n",
    "- lexeme, a uniquely identifiable string of characters in the source programming language, \n",
    "\n",
    "    - e.g. if, while or func, identifiers, strings, numbers, operators or single characters like (, ), . or :\n",
    "    \n",
    "- token, an object describing a lexeme. Along with the value of the lexeme (the actual string of characters of the lexeme), contains\n",
    "\n",
    "    - information such as its type (is it a keyword? an identifier? an operator? …)\n",
    "    \n",
    "    - the position (line and/or column number) in the source code where it appears.\n",
    "    \n",
    "    - if fail to create a token, it will stop its execution by throwing an error"
   ]
  },
  {
   "cell_type": "markdown",
   "metadata": {},
   "source": [
    "#### Syntax Analysis\n",
    "\n",
    "During syntax analysis, the compiler uses the sequence of tokens generated during the lexical analysis to generate a tree-like data structure called Abstract Syntax Tree, AST for short. \n",
    "\n",
    "- The AST reflects the syntactic and logical structure of the program.\n",
    "\n",
    "- Abstract Syntax Tree generated after syntax analysis"
   ]
  },
  {
   "cell_type": "markdown",
   "metadata": {},
   "source": [
    "#### Semantic Analysis\n",
    "\n",
    "During semantic analysis, the compiler uses the AST generated during syntax analysis to check if the program is consistent with all the rules of the source programming language. Semantic analysis encompasses\n",
    "\n",
    "- Type Inference:\n",
    "\n",
    "    - automatic deduction of the data types of specific expressions in a programming language, usually done at compile time. \n",
    "    \n",
    "    - It involves analyzing a program and then inferring the different types of some or all expressions in that program so that the programmer does not need to explicitly input and define data types every time variables are used in the program.\n",
    "    \n",
    "- Type checking:\n",
    "    \n",
    "- Symbol management:\n",
    "\n",
    "    - symbol table, contains information about all the symbols (or names) encountered in the program.\n",
    "    \n",
    "        - Is this variable declared before use?\n",
    "        \n",
    "        - Are there 2 variables with the same name in the same scope? \n",
    "        \n",
    "        - What is the type of this variable? \n",
    "        \n",
    "        - Is this variable available in the current scope?"
   ]
  },
  {
   "cell_type": "markdown",
   "metadata": {},
   "source": [
    "The output of the semantic analysis phase is an annotated AST and the symbol table."
   ]
  },
  {
   "cell_type": "markdown",
   "metadata": {},
   "source": [
    "#### Intermediate Code Generation"
   ]
  },
  {
   "cell_type": "markdown",
   "metadata": {},
   "source": [
    "After the semantic analysis phase, the compiler uses the annotated AST to generate an intermediate and machine-independent low-level code. (e.g. three-address code)"
   ]
  },
  {
   "cell_type": "markdown",
   "metadata": {},
   "source": [
    "The three-address code (3AC), in its simplest form, is a language in which an instruction is an assignment and has at most 3 operands.\n",
    "\n",
    "Most instructions in 3AC are of the form a := b $<operator>$ c or a := b.\n",
    "\n",
    "The intermediate code generation concludes the front end phase of the compiler."
   ]
  },
  {
   "cell_type": "markdown",
   "metadata": {},
   "source": [
    "### back end (optimization and code generation)\n",
    "\n",
    "- uses the intermediate representation and the symbol table built by the front end to generate low-level code."
   ]
  },
  {
   "cell_type": "markdown",
   "metadata": {},
   "source": [
    "#### Optimization\n",
    "\n",
    "- simply the iternediate code"
   ]
  },
  {
   "cell_type": "markdown",
   "metadata": {},
   "source": [
    "#### Code Generation\n",
    "\n",
    "- generate assembly (or other low - level code)"
   ]
  },
  {
   "cell_type": "markdown",
   "metadata": {},
   "source": [
    "## [Interperator](https://www.cnblogs.com/sword03/archive/2010/06/27/1766147.html)"
   ]
  },
  {
   "cell_type": "markdown",
   "metadata": {},
   "source": [
    "- an interpreter directly executes the instructions in the source programming language while a compiler translates those instructions into efficient machine code.\n",
    "\n",
    "- An interpreter will typically generate an efficient intermediate representation and immediately evaluate it. \n",
    "\n",
    "- Depending on the interpreter, the intermediate representation can be an AST, an annotated AST or a machine-independent low-level representation such as the three-address code."
   ]
  },
  {
   "cell_type": "markdown",
   "metadata": {},
   "source": [
    "# ORM(Object Relational Mapping)"
   ]
  },
  {
   "cell_type": "markdown",
   "metadata": {},
   "source": [
    "# decorator "
   ]
  },
  {
   "cell_type": "markdown",
   "metadata": {},
   "source": [
    "- to modify the behavior of function or class. \n",
    "\n",
    "- to wrap another function in order to extend the behavior of wrapped function, without permanently modifying it.\n",
    "\n",
    "In Decorators, functions are taken as the argument into another function and then called inside the wrapper function."
   ]
  },
  {
   "cell_type": "markdown",
   "metadata": {},
   "source": [
    "## [Example](https://baijiahao.baidu.com/s?id=1626911318049316751&wfr=spider&for=pc)"
   ]
  },
  {
   "cell_type": "markdown",
   "metadata": {},
   "source": [
    "1. Function: getList(), randomly get n numbers from $0 $~$ 10^8$\n",
    "\n",
    "2. Add more functionalities, such as counting and time comsuming."
   ]
  },
  {
   "cell_type": "code",
   "execution_count": 1,
   "metadata": {},
   "outputs": [],
   "source": [
    "import random\n",
    "import time"
   ]
  },
  {
   "cell_type": "code",
   "execution_count": 5,
   "metadata": {},
   "outputs": [],
   "source": [
    "# use decorator\n",
    "def decorator(func):\n",
    "    def wrapper(n):\n",
    "        start_time = time.time()\n",
    "        func(n)\n",
    "        end_time = time.time()\n",
    "        print('Time used:', end_time - start_time)\n",
    "    return wrapper"
   ]
  },
  {
   "cell_type": "code",
   "execution_count": 6,
   "metadata": {},
   "outputs": [],
   "source": [
    "@decorator\n",
    "def getList(n):\n",
    "    '''\n",
    "    # get starting time\n",
    "    start_time = time.time()\n",
    "    '''\n",
    "    seq = list(range(pow(10,8)))\n",
    "    x = random.sample(seq,n)\n",
    "    y = sorted(x)\n",
    "    '''\n",
    "    # get the ending time\n",
    "    end_time = time.time()\n",
    "    # print time consuming\n",
    "    print('Time used:', end_time = start_time)\n",
    "    '''\n",
    "    return y"
   ]
  },
  {
   "cell_type": "code",
   "execution_count": 7,
   "metadata": {},
   "outputs": [
    {
     "name": "stdout",
     "output_type": "stream",
     "text": [
      "Time used: 2.734832525253296\n"
     ]
    }
   ],
   "source": [
    "result = getList(10000)"
   ]
  },
  {
   "cell_type": "markdown",
   "metadata": {},
   "source": [
    "# Factory Function"
   ]
  },
  {
   "cell_type": "markdown",
   "metadata": {},
   "source": [
    "## [Example](https://www.cnblogs.com/Xjng/p/3879064.html)"
   ]
  },
  {
   "cell_type": "code",
   "execution_count": null,
   "metadata": {},
   "outputs": [],
   "source": []
  },
  {
   "cell_type": "code",
   "execution_count": null,
   "metadata": {},
   "outputs": [],
   "source": []
  },
  {
   "cell_type": "code",
   "execution_count": null,
   "metadata": {},
   "outputs": [],
   "source": []
  },
  {
   "cell_type": "markdown",
   "metadata": {},
   "source": [
    "# [Python's Instance, Class, and Static Methods](https://realpython.com/instance-class-and-static-methods-demystified/)"
   ]
  },
  {
   "cell_type": "code",
   "execution_count": 9,
   "metadata": {},
   "outputs": [],
   "source": [
    "class MyClass:\n",
    "    def method(self):\n",
    "        return 'instance method called', self\n",
    "\n",
    "    @classmethod\n",
    "    def classmethod(cls):\n",
    "        return 'class method called', cls\n",
    "\n",
    "    @staticmethod\n",
    "    def staticmethod():\n",
    "        return 'static method called'"
   ]
  },
  {
   "cell_type": "markdown",
   "metadata": {},
   "source": [
    "## Instance Methond\n",
    "\n",
    "- self parameter points to an instance of MyClass when the method is called\n",
    "\n",
    "- Through the self parameter, instance methods can freely access attributes and other methods on the same object.\n",
    "\n",
    "- Instance methods can also access the class itself through the self.\\_\\_class\\_\\_ attribute. This means instance methods can also modify class state."
   ]
  },
  {
   "cell_type": "code",
   "execution_count": 12,
   "metadata": {},
   "outputs": [
    {
     "data": {
      "text/plain": [
       "('instance method called', <__main__.MyClass at 0x211d5f4f240>)"
      ]
     },
     "execution_count": 12,
     "metadata": {},
     "output_type": "execute_result"
    }
   ],
   "source": [
    "obj = MyClass()\n",
    "obj.method()"
   ]
  },
  {
   "cell_type": "code",
   "execution_count": 14,
   "metadata": {},
   "outputs": [
    {
     "data": {
      "text/plain": [
       "('instance method called', <__main__.MyClass at 0x211d5f4f240>)"
      ]
     },
     "execution_count": 14,
     "metadata": {},
     "output_type": "execute_result"
    }
   ],
   "source": [
    "MyClass.method(obj)"
   ]
  },
  {
   "cell_type": "markdown",
   "metadata": {},
   "source": [
    "## Class Method\n",
    "\n",
    "- Instead of accepting a self parameter, class methods take a cls parameter that points to the class—and not the object instance—when the method is called.\n",
    "\n",
    "- Because the class method only has access to this cls argument, it can’t modify object instance state. That would require access to self.\n",
    "\n",
    "- Can still modify class state that applies across all instances of the class."
   ]
  },
  {
   "cell_type": "code",
   "execution_count": 15,
   "metadata": {},
   "outputs": [
    {
     "data": {
      "text/plain": [
       "('class method called', __main__.MyClass)"
      ]
     },
     "execution_count": 15,
     "metadata": {},
     "output_type": "execute_result"
    }
   ],
   "source": [
    "obj.classmethod()"
   ]
  },
  {
   "cell_type": "markdown",
   "metadata": {},
   "source": [
    "## Static Method\n",
    "\n",
    "- Marked with a @staticmethod decorator to flag it as a static method.\n",
    "\n",
    "- This type of method takes neither a self nor a cls parameter (but of course it’s free to accept an arbitrary number of other parameters).\n",
    "\n",
    "- Can neither modify object state nor class state. Static methods are restricted in what data they can access - and they’re primarily a way to namespace your methods."
   ]
  },
  {
   "cell_type": "code",
   "execution_count": 16,
   "metadata": {},
   "outputs": [
    {
     "data": {
      "text/plain": [
       "'static method called'"
      ]
     },
     "execution_count": 16,
     "metadata": {},
     "output_type": "execute_result"
    }
   ],
   "source": [
    "obj.staticmethod()"
   ]
  },
  {
   "cell_type": "markdown",
   "metadata": {},
   "source": [
    "||instance method|class method|static method|\n",
    "|:-|:-|:-|:-|\n",
    "|a = A()|a.foo(x)|a.class_foo(x)|a.static_foo(x)|\n",
    "|A|NaN|A.class_foo(x)|A.static_foo(x)|"
   ]
  },
  {
   "cell_type": "markdown",
   "metadata": {},
   "source": [
    "## Example"
   ]
  },
  {
   "cell_type": "code",
   "execution_count": 17,
   "metadata": {},
   "outputs": [],
   "source": [
    "class Pizza:\n",
    "    def __init__(self, ingredients):\n",
    "        self.ingredients = ingredients\n",
    "\n",
    "    def __repr__(self):\n",
    "        return f'Pizza({self.ingredients!r})'\n",
    "\n",
    "    @classmethod\n",
    "    def margherita(cls):\n",
    "        return cls(['mozzarella', 'tomatoes'])\n",
    "\n",
    "    @classmethod\n",
    "    def prosciutto(cls):\n",
    "        return cls(['mozzarella', 'tomatoes', 'ham'])"
   ]
  },
  {
   "cell_type": "code",
   "execution_count": 18,
   "metadata": {},
   "outputs": [
    {
     "data": {
      "text/plain": [
       "Pizza(['mozzarella', 'tomatoes'])"
      ]
     },
     "execution_count": 18,
     "metadata": {},
     "output_type": "execute_result"
    }
   ],
   "source": [
    "Pizza.margherita()"
   ]
  },
  {
   "cell_type": "code",
   "execution_count": 19,
   "metadata": {},
   "outputs": [
    {
     "data": {
      "text/plain": [
       "Pizza(['mozzarella', 'tomatoes', 'ham'])"
      ]
     },
     "execution_count": 19,
     "metadata": {},
     "output_type": "execute_result"
    }
   ],
   "source": [
    "Pizza.prosciutto()"
   ]
  },
  {
   "cell_type": "markdown",
   "metadata": {},
   "source": [
    "# introspection"
   ]
  }
 ],
 "metadata": {
  "kernelspec": {
   "display_name": "Python 3",
   "language": "python",
   "name": "python3"
  },
  "language_info": {
   "codemirror_mode": {
    "name": "ipython",
    "version": 3
   },
   "file_extension": ".py",
   "mimetype": "text/x-python",
   "name": "python",
   "nbconvert_exporter": "python",
   "pygments_lexer": "ipython3",
   "version": "3.6.5"
  }
 },
 "nbformat": 4,
 "nbformat_minor": 2
}
