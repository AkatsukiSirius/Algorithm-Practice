{
 "cells": [
  {
   "cell_type": "markdown",
   "metadata": {},
   "source": [
    "# Sort"
   ]
  },
  {
   "cell_type": "markdown",
   "metadata": {},
   "source": [
    "## Bubble Sort\n",
    "\n",
    "- __Structure__: 2 Nested loops, 1 if-condition\n",
    "\n",
    "- __Idea__: Find max/min for each pass, put it at the end/beginning"
   ]
  },
  {
   "cell_type": "code",
   "execution_count": 1,
   "metadata": {},
   "outputs": [],
   "source": [
    "def bubbleSort(alist):\n",
    "    for i in range(len(alist)-1):\n",
    "        for j in range(i+1,len(alist)):\n",
    "            if alist[i] > alist[j]:\n",
    "                alist[i], alist[j] = alist[j], alist[i]\n",
    "            print(\"Pass %d, Comparison %d\" %(i+1,j) + \":\",alist)\n",
    "        print(\"Pass %d\" %(i+1) + \":\",alist)"
   ]
  },
  {
   "cell_type": "code",
   "execution_count": 2,
   "metadata": {},
   "outputs": [
    {
     "name": "stdout",
     "output_type": "stream",
     "text": [
      "Pass 1, Comparison 1: [26, 54, 93, 17, 77, 31, 44, 55, 20]\n",
      "Pass 1, Comparison 2: [26, 54, 93, 17, 77, 31, 44, 55, 20]\n",
      "Pass 1, Comparison 3: [17, 54, 93, 26, 77, 31, 44, 55, 20]\n",
      "Pass 1, Comparison 4: [17, 54, 93, 26, 77, 31, 44, 55, 20]\n",
      "Pass 1, Comparison 5: [17, 54, 93, 26, 77, 31, 44, 55, 20]\n",
      "Pass 1, Comparison 6: [17, 54, 93, 26, 77, 31, 44, 55, 20]\n",
      "Pass 1, Comparison 7: [17, 54, 93, 26, 77, 31, 44, 55, 20]\n",
      "Pass 1, Comparison 8: [17, 54, 93, 26, 77, 31, 44, 55, 20]\n",
      "Pass 1: [17, 54, 93, 26, 77, 31, 44, 55, 20]\n",
      "Pass 2, Comparison 2: [17, 54, 93, 26, 77, 31, 44, 55, 20]\n",
      "Pass 2, Comparison 3: [17, 26, 93, 54, 77, 31, 44, 55, 20]\n",
      "Pass 2, Comparison 4: [17, 26, 93, 54, 77, 31, 44, 55, 20]\n",
      "Pass 2, Comparison 5: [17, 26, 93, 54, 77, 31, 44, 55, 20]\n",
      "Pass 2, Comparison 6: [17, 26, 93, 54, 77, 31, 44, 55, 20]\n",
      "Pass 2, Comparison 7: [17, 26, 93, 54, 77, 31, 44, 55, 20]\n",
      "Pass 2, Comparison 8: [17, 20, 93, 54, 77, 31, 44, 55, 26]\n",
      "Pass 2: [17, 20, 93, 54, 77, 31, 44, 55, 26]\n",
      "Pass 3, Comparison 3: [17, 20, 54, 93, 77, 31, 44, 55, 26]\n",
      "Pass 3, Comparison 4: [17, 20, 54, 93, 77, 31, 44, 55, 26]\n",
      "Pass 3, Comparison 5: [17, 20, 31, 93, 77, 54, 44, 55, 26]\n",
      "Pass 3, Comparison 6: [17, 20, 31, 93, 77, 54, 44, 55, 26]\n",
      "Pass 3, Comparison 7: [17, 20, 31, 93, 77, 54, 44, 55, 26]\n",
      "Pass 3, Comparison 8: [17, 20, 26, 93, 77, 54, 44, 55, 31]\n",
      "Pass 3: [17, 20, 26, 93, 77, 54, 44, 55, 31]\n",
      "Pass 4, Comparison 4: [17, 20, 26, 77, 93, 54, 44, 55, 31]\n",
      "Pass 4, Comparison 5: [17, 20, 26, 54, 93, 77, 44, 55, 31]\n",
      "Pass 4, Comparison 6: [17, 20, 26, 44, 93, 77, 54, 55, 31]\n",
      "Pass 4, Comparison 7: [17, 20, 26, 44, 93, 77, 54, 55, 31]\n",
      "Pass 4, Comparison 8: [17, 20, 26, 31, 93, 77, 54, 55, 44]\n",
      "Pass 4: [17, 20, 26, 31, 93, 77, 54, 55, 44]\n",
      "Pass 5, Comparison 5: [17, 20, 26, 31, 77, 93, 54, 55, 44]\n",
      "Pass 5, Comparison 6: [17, 20, 26, 31, 54, 93, 77, 55, 44]\n",
      "Pass 5, Comparison 7: [17, 20, 26, 31, 54, 93, 77, 55, 44]\n",
      "Pass 5, Comparison 8: [17, 20, 26, 31, 44, 93, 77, 55, 54]\n",
      "Pass 5: [17, 20, 26, 31, 44, 93, 77, 55, 54]\n",
      "Pass 6, Comparison 6: [17, 20, 26, 31, 44, 77, 93, 55, 54]\n",
      "Pass 6, Comparison 7: [17, 20, 26, 31, 44, 55, 93, 77, 54]\n",
      "Pass 6, Comparison 8: [17, 20, 26, 31, 44, 54, 93, 77, 55]\n",
      "Pass 6: [17, 20, 26, 31, 44, 54, 93, 77, 55]\n",
      "Pass 7, Comparison 7: [17, 20, 26, 31, 44, 54, 77, 93, 55]\n",
      "Pass 7, Comparison 8: [17, 20, 26, 31, 44, 54, 55, 93, 77]\n",
      "Pass 7: [17, 20, 26, 31, 44, 54, 55, 93, 77]\n",
      "Pass 8, Comparison 8: [17, 20, 26, 31, 44, 54, 55, 77, 93]\n",
      "Pass 8: [17, 20, 26, 31, 44, 54, 55, 77, 93]\n"
     ]
    }
   ],
   "source": [
    "a = [54, 26, 93, 17, 77, 31, 44, 55, 20]\n",
    "bubbleSort(a)"
   ]
  },
  {
   "cell_type": "markdown",
   "metadata": {},
   "source": [
    "## ShortBubbleSort\n",
    "\n",
    "- __For each inner loop, stop iterating when the minimum is obtained__"
   ]
  },
  {
   "cell_type": "code",
   "execution_count": 9,
   "metadata": {},
   "outputs": [],
   "source": [
    "def shortBubbleSort(alist):\n",
    "    exchange = True\n",
    "    i = 0\n",
    "    while i < len(alist)-1 and exchange:\n",
    "        exchange = False\n",
    "        for j in range(i+1,len(alist)):\n",
    "            if alist[i] > alist[j]:\n",
    "                exchange = True\n",
    "                alist[i], alist[j] = alist[j], alist[i]\n",
    "                print(\"Pass %d,%d\" %(i+1,j) + \":\",alist)\n",
    "        i+=1\n",
    "        print(\"Pass %d\" %(i+1) + \":\",alist)"
   ]
  },
  {
   "cell_type": "code",
   "execution_count": 10,
   "metadata": {},
   "outputs": [
    {
     "name": "stdout",
     "output_type": "stream",
     "text": [
      "Pass 1,1: [26, 54, 93, 17, 77, 31, 44, 55, 20]\n",
      "Pass 1,3: [17, 54, 93, 26, 77, 31, 44, 55, 20]\n",
      "Pass 2: [17, 54, 93, 26, 77, 31, 44, 55, 20]\n",
      "Pass 2,3: [17, 26, 93, 54, 77, 31, 44, 55, 20]\n",
      "Pass 2,8: [17, 20, 93, 54, 77, 31, 44, 55, 26]\n",
      "Pass 3: [17, 20, 93, 54, 77, 31, 44, 55, 26]\n",
      "Pass 3,3: [17, 20, 54, 93, 77, 31, 44, 55, 26]\n",
      "Pass 3,5: [17, 20, 31, 93, 77, 54, 44, 55, 26]\n",
      "Pass 3,8: [17, 20, 26, 93, 77, 54, 44, 55, 31]\n",
      "Pass 4: [17, 20, 26, 93, 77, 54, 44, 55, 31]\n",
      "Pass 4,4: [17, 20, 26, 77, 93, 54, 44, 55, 31]\n",
      "Pass 4,5: [17, 20, 26, 54, 93, 77, 44, 55, 31]\n",
      "Pass 4,6: [17, 20, 26, 44, 93, 77, 54, 55, 31]\n",
      "Pass 4,8: [17, 20, 26, 31, 93, 77, 54, 55, 44]\n",
      "Pass 5: [17, 20, 26, 31, 93, 77, 54, 55, 44]\n",
      "Pass 5,5: [17, 20, 26, 31, 77, 93, 54, 55, 44]\n",
      "Pass 5,6: [17, 20, 26, 31, 54, 93, 77, 55, 44]\n",
      "Pass 5,8: [17, 20, 26, 31, 44, 93, 77, 55, 54]\n",
      "Pass 6: [17, 20, 26, 31, 44, 93, 77, 55, 54]\n",
      "Pass 6,6: [17, 20, 26, 31, 44, 77, 93, 55, 54]\n",
      "Pass 6,7: [17, 20, 26, 31, 44, 55, 93, 77, 54]\n",
      "Pass 6,8: [17, 20, 26, 31, 44, 54, 93, 77, 55]\n",
      "Pass 7: [17, 20, 26, 31, 44, 54, 93, 77, 55]\n",
      "Pass 7,7: [17, 20, 26, 31, 44, 54, 77, 93, 55]\n",
      "Pass 7,8: [17, 20, 26, 31, 44, 54, 55, 93, 77]\n",
      "Pass 8: [17, 20, 26, 31, 44, 54, 55, 93, 77]\n",
      "Pass 8,8: [17, 20, 26, 31, 44, 54, 55, 77, 93]\n",
      "Pass 9: [17, 20, 26, 31, 44, 54, 55, 77, 93]\n"
     ]
    }
   ],
   "source": [
    "a = [54, 26, 93, 17, 77, 31, 44, 55, 20]\n",
    "shortBubbleSort(a)"
   ]
  },
  {
   "cell_type": "code",
   "execution_count": 3,
   "metadata": {},
   "outputs": [
    {
     "data": {
      "text/plain": [
       "[17, 20, 26, 31, 44, 54, 55, 77, 93]"
      ]
     },
     "execution_count": 3,
     "metadata": {},
     "output_type": "execute_result"
    }
   ],
   "source": [
    "a"
   ]
  },
  {
   "cell_type": "code",
   "execution_count": 17,
   "metadata": {},
   "outputs": [],
   "source": [
    "a = [54, 26, 93, 17, 77, 31, 44, 55, 20]"
   ]
  },
  {
   "cell_type": "markdown",
   "metadata": {},
   "source": [
    "## Select Sort\n",
    "\n",
    "- __Bubble sort + in each inner loop, swap only when the max/min is found__"
   ]
  },
  {
   "cell_type": "code",
   "execution_count": 1,
   "metadata": {
    "collapsed": true
   },
   "outputs": [],
   "source": [
    "def selectSort(alist):\n",
    "    for i in range(0,len(alist)-1):\n",
    "        minPos = i\n",
    "        for j in range(i+1,len(alist)):\n",
    "            if alist[minPos] > alist[j]:\n",
    "                minPos = j\n",
    "        alist[i], alist[minPos] =b alist[minPos], alist[i]\n",
    "    return alist"
   ]
  },
  {
   "cell_type": "code",
   "execution_count": 4,
   "metadata": {},
   "outputs": [
    {
     "data": {
      "text/plain": [
       "[17, 20, 26, 31, 44, 54, 55, 77, 93]"
      ]
     },
     "execution_count": 4,
     "metadata": {},
     "output_type": "execute_result"
    }
   ],
   "source": [
    "selectSort(a)"
   ]
  },
  {
   "cell_type": "markdown",
   "metadata": {},
   "source": [
    "## [Merge Sort](http://interactivepython.org/courselib/static/pythonds/SortSearch/TheMergeSort.html)"
   ]
  },
  {
   "cell_type": "code",
   "execution_count": 22,
   "metadata": {
    "collapsed": true
   },
   "outputs": [],
   "source": [
    "a = [54, 26, 93, 17, 77, 31, 44, 55, 20]"
   ]
  },
  {
   "cell_type": "code",
   "execution_count": 3,
   "metadata": {
    "collapsed": true
   },
   "outputs": [],
   "source": [
    "def mergeSort(alist):\n",
    "    print(\"Splitting \", alist)\n",
    "    if len(alist) > 1:\n",
    "        mid = len(alist)//2\n",
    "        lefthalf = alist[:mid]\n",
    "        righthalf = alist[mid:]\n",
    "        \n",
    "        mergeSort(lefthalf)\n",
    "        mergeSort(righthalf)\n",
    "        \n",
    "        i = 0\n",
    "        j = 0\n",
    "        k = 0\n",
    "        while i < len(lefthalf) and j < len(righthalf):\n",
    "             if lefthalf[i]<righthalf[j]:\n",
    "                alist[k] = lefthalf[i]\n",
    "                i=i+1\n",
    "            else:\n",
    "                alist[k] = righthalf[j]\n",
    "                j = j+1\n",
    "            k = k+1\n",
    "            \n",
    "        while i < len(lefthalf):\n",
    "            alist[k] = lefthalf[i]\n",
    "            i = i+1\n",
    "            k = k+1\n",
    "            \n",
    "        while j < len(righthalf):\n",
    "            alist[k] = righthalf[j]\n",
    "            j = j+1\n",
    "            k = k+1\n",
    "    print(\"Merging \", alist)"
   ]
  },
  {
   "cell_type": "code",
   "execution_count": 4,
   "metadata": {},
   "outputs": [
    {
     "name": "stdout",
     "output_type": "stream",
     "text": [
      "Splitting  [54, 26, 93, 17, 77, 31, 44, 55, 20]\n",
      "Splitting  [54, 26, 93, 17]\n",
      "Splitting  [54, 26]\n",
      "Splitting  [54]\n",
      "Merging  [54]\n",
      "Splitting  [26]\n",
      "Merging  [26]\n",
      "Merging  [26, 54]\n",
      "Splitting  [93, 17]\n",
      "Splitting  [93]\n",
      "Merging  [93]\n",
      "Splitting  [17]\n",
      "Merging  [17]\n",
      "Merging  [17, 93]\n",
      "Merging  [17, 26, 54, 93]\n",
      "Splitting  [77, 31, 44, 55, 20]\n",
      "Splitting  [77, 31]\n",
      "Splitting  [77]\n",
      "Merging  [77]\n",
      "Splitting  [31]\n",
      "Merging  [31]\n",
      "Merging  [31, 77]\n",
      "Splitting  [44, 55, 20]\n",
      "Splitting  [44]\n",
      "Merging  [44]\n",
      "Splitting  [55, 20]\n",
      "Splitting  [55]\n",
      "Merging  [55]\n",
      "Splitting  [20]\n",
      "Merging  [20]\n",
      "Merging  [20, 55]\n",
      "Merging  [20, 44, 55]\n",
      "Merging  [20, 31, 44, 55, 77]\n",
      "Merging  [17, 20, 26, 31, 44, 54, 55, 77, 93]\n"
     ]
    }
   ],
   "source": [
    "mergeSort(a)"
   ]
  },
  {
   "cell_type": "code",
   "execution_count": 20,
   "metadata": {},
   "outputs": [
    {
     "data": {
      "text/plain": [
       "[17, 26, 26, 17, 20, 31, 31, 44, 20]"
      ]
     },
     "execution_count": 20,
     "metadata": {},
     "output_type": "execute_result"
    }
   ],
   "source": [
    "a"
   ]
  },
  {
   "cell_type": "markdown",
   "metadata": {},
   "source": [
    "## Heap Sort"
   ]
  },
  {
   "cell_type": "code",
   "execution_count": 6,
   "metadata": {},
   "outputs": [],
   "source": [
    "def heapify(arr, n, i):\n",
    "    # Find largest among root and children\n",
    "    largest = i\n",
    "    l = 2 * i + 1\n",
    "    r = 2 * i + 2 \n",
    "\n",
    "    if l < n and arr[i] < arr[l]:\n",
    "        largest = l\n",
    " \n",
    "    if r < n and arr[largest] < arr[r]:\n",
    "        largest = r\n",
    " \n",
    "    # If root is not largest, swap with largest and continue heapifying\n",
    "    if largest != i:\n",
    "        arr[i],arr[largest] = arr[largest],arr[i]\n",
    "        heapify(arr, n, largest)\n",
    "\n",
    "def buildMaxHeap(arr):\n",
    "    n = len(arr)\n",
    "    # Build max heap\n",
    "    for i in range(n//2-1, -1, -1):\n",
    "        heapify(arr, n, i)\n",
    "    \n",
    "def heapSort(arr):\n",
    "    n = len(arr)\n",
    "    \n",
    "    buildMaxHeap(arr)\n",
    "    \n",
    "    for i in range(n-1, -1, -1):\n",
    "        # swap\n",
    "        arr[i], arr[0] = arr[0], arr[i]  \n",
    "        \n",
    "        #heapify root element\n",
    "        heapify(arr, i-1, 0)"
   ]
  },
  {
   "cell_type": "code",
   "execution_count": 7,
   "metadata": {},
   "outputs": [
    {
     "name": "stdout",
     "output_type": "stream",
     "text": [
      "Sorted array is\n",
      "5\n",
      "7\n",
      "6\n",
      "11\n",
      "12\n",
      "13\n"
     ]
    }
   ],
   "source": [
    "arr = [ 12, 11, 13, 5, 6, 7]\n",
    "heapSort(arr)\n",
    "n = len(arr)\n",
    "print (\"Sorted array is\")\n",
    "for i in range(n):\n",
    "    print (\"%d\" %arr[i])"
   ]
  },
  {
   "cell_type": "code",
   "execution_count": 8,
   "metadata": {
    "collapsed": true
   },
   "outputs": [],
   "source": [
    "arr = [ 12, 11, 13, 5, 6, 7]"
   ]
  },
  {
   "cell_type": "code",
   "execution_count": 9,
   "metadata": {
    "collapsed": true
   },
   "outputs": [],
   "source": [
    "buildMaxHeap(arr)"
   ]
  },
  {
   "cell_type": "code",
   "execution_count": 10,
   "metadata": {},
   "outputs": [
    {
     "data": {
      "text/plain": [
       "[13, 11, 12, 5, 6, 7]"
      ]
     },
     "execution_count": 10,
     "metadata": {},
     "output_type": "execute_result"
    }
   ],
   "source": [
    "arr"
   ]
  },
  {
   "cell_type": "code",
   "execution_count": 11,
   "metadata": {},
   "outputs": [],
   "source": [
    "def heapsort( aList ):\n",
    "    # convert a List to heap\n",
    "    length = len( aList ) - 1\n",
    "    leastParent = length // 2\n",
    "    for i in range ( leastParent, -1, -1 ):\n",
    "        moveDown( aList, i, length )\n",
    " \n",
    "  # flatten heap into sorted array\n",
    "    for i in range ( length, 0, -1 ):\n",
    "        if aList[0] > aList[i]:\n",
    "            swap( aList, 0, i )\n",
    "            moveDown( aList, 0, i - 1 )\n",
    " \n",
    " \n",
    "def moveDown( aList, first, last ):\n",
    "    largest = 2 * first + 1\n",
    "    while largest <= last:\n",
    "    # right child exists and is larger than left child\n",
    "        if largest < last and aList[largest] < aList[largest + 1]:\n",
    "            largest += 1\n",
    " \n",
    "    # right child is larger than parent\n",
    "    if aList[largest] > aList[first]:\n",
    "        swap( aList, largest, first )\n",
    "        # move down to largest child\n",
    "        first = largest;\n",
    "        largest = 2 * first + 1\n",
    "    else:\n",
    "        return # force exit\n",
    " \n",
    " \n",
    "def swap( A, x, y ):\n",
    "    A[x], A[y] = A[y], A[X]"
   ]
  },
  {
   "cell_type": "code",
   "execution_count": null,
   "metadata": {},
   "outputs": [],
   "source": [
    "heapsort(arr)"
   ]
  },
  {
   "cell_type": "markdown",
   "metadata": {
    "collapsed": true
   },
   "source": [
    "## Insert Sort\n",
    "\n",
    "__For each iteration, put the next element to the correct postion in previous elements__\n",
    "\n",
    "- __Set current postion and its value;__\n",
    "\n",
    "- __Compare the value between the fixed element and each element in previous subset, move one step for each element whoes value is larger than the fixed one;__\n",
    "\n",
    "- __Continue the loop untile the correct position for the fixed element is reached;__\n",
    "\n",
    "- __Update corresponds element with fixed element;__\n",
    "\n",
    "- __Move to the next element, continue the loop upto the last element;__\n"
   ]
  },
  {
   "cell_type": "code",
   "execution_count": 19,
   "metadata": {
    "collapsed": true
   },
   "outputs": [],
   "source": [
    "def inserSort(alist):\n",
    "    for i in range(len(alist)):\n",
    "        currentValue = alist[i]\n",
    "        position = i - 1\n",
    "        while position >= 0 and currentValue < alist[position]:\n",
    "            alist[position + 1] = alist[position]\n",
    "            position -= 1\n",
    "        alist[position + 1] = currentValue\n",
    "        print(\"Pass %d\" %(i+1) + \":\",alist)\n",
    "    return alist"
   ]
  },
  {
   "cell_type": "code",
   "execution_count": 23,
   "metadata": {},
   "outputs": [
    {
     "name": "stdout",
     "output_type": "stream",
     "text": [
      "Pass 1: [54, 26, 93, 17, 77, 31, 44, 55, 20]\n",
      "Pass 2: [26, 54, 93, 17, 77, 31, 44, 55, 20]\n",
      "Pass 3: [26, 54, 93, 17, 77, 31, 44, 55, 20]\n",
      "Pass 4: [17, 26, 54, 93, 77, 31, 44, 55, 20]\n",
      "Pass 5: [17, 26, 54, 77, 93, 31, 44, 55, 20]\n",
      "Pass 6: [17, 26, 31, 54, 77, 93, 44, 55, 20]\n",
      "Pass 7: [17, 26, 31, 44, 54, 77, 93, 55, 20]\n",
      "Pass 8: [17, 26, 31, 44, 54, 55, 77, 93, 20]\n",
      "Pass 9: [17, 20, 26, 31, 44, 54, 55, 77, 93]\n"
     ]
    },
    {
     "data": {
      "text/plain": [
       "[17, 20, 26, 31, 44, 54, 55, 77, 93]"
      ]
     },
     "execution_count": 23,
     "metadata": {},
     "output_type": "execute_result"
    }
   ],
   "source": [
    "inserSort(a)"
   ]
  },
  {
   "cell_type": "code",
   "execution_count": 4,
   "metadata": {
    "collapsed": true
   },
   "outputs": [],
   "source": [
    "def insertSort(alist):\n",
    "    for i in range(len(alist)):\n",
    "        currentValue = alist[i]\n",
    "        position = i - 1\n",
    "        while position >= 0 and currentValue < alist[position]:\n",
    "            alist[position + 1] = alist[position]\n",
    "            position -= 1\n",
    "        alist[position + 1] = currentValue\n",
    "        print(\"Pass %d\" %(i+1) + \":\", alist)\n",
    "    return alist"
   ]
  },
  {
   "cell_type": "code",
   "execution_count": 61,
   "metadata": {
    "collapsed": true
   },
   "outputs": [],
   "source": [
    "arr = [ 12, 11, 13, 5, 6, 7]"
   ]
  },
  {
   "cell_type": "code",
   "execution_count": 49,
   "metadata": {},
   "outputs": [
    {
     "name": "stdout",
     "output_type": "stream",
     "text": [
      "Pass 1: [12, 11, 13, 5, 6, 7]\n",
      "Pass 2: [11, 12, 13, 5, 6, 7]\n",
      "Pass 3: [11, 12, 13, 5, 6, 7]\n",
      "Pass 4: [5, 11, 12, 13, 6, 7]\n",
      "Pass 5: [5, 6, 11, 12, 13, 7]\n",
      "Pass 6: [5, 6, 7, 11, 12, 13]\n"
     ]
    },
    {
     "data": {
      "text/plain": [
       "[5, 6, 7, 11, 12, 13]"
      ]
     },
     "execution_count": 49,
     "metadata": {},
     "output_type": "execute_result"
    }
   ],
   "source": [
    "insertSort(arr)"
   ]
  },
  {
   "cell_type": "markdown",
   "metadata": {},
   "source": [
    "## Shell Sort\n",
    "\n",
    "- __Insertion sort + insert based on gap__"
   ]
  },
  {
   "cell_type": "code",
   "execution_count": 60,
   "metadata": {},
   "outputs": [],
   "source": [
    "def shellSort(alist):\n",
    "    gap = len(alist)//2\n",
    "    j = 1\n",
    "    while gap > 0:\n",
    "        for i in range(gap):\n",
    "            insertionSort4Gap(alist, i, gap)\n",
    "        print(\"Gap %d, Gap length %d\" % (j, gap), alist)\n",
    "        gap = gap//2\n",
    "        j += 1\n",
    "    return alist"
   ]
  },
  {
   "cell_type": "code",
   "execution_count": 58,
   "metadata": {
    "collapsed": true
   },
   "outputs": [],
   "source": [
    "def insertionSort4Gap(alist, start, gap):\n",
    "    currentValue = alist[start + gap]\n",
    "    position = start\n",
    "    if position >= start and alist[position] > currentValue:\n",
    "        alist[position + gap] = alist[position]\n",
    "        position -= gap\n",
    "    alist[position + gap] = currentValue\n",
    "    return alist"
   ]
  },
  {
   "cell_type": "code",
   "execution_count": 62,
   "metadata": {},
   "outputs": [
    {
     "name": "stdout",
     "output_type": "stream",
     "text": [
      "Gap 1, Gap length 3 [5, 6, 7, 12, 11, 13]\n",
      "Gap 2, Gap length 1 [5, 6, 7, 12, 11, 13]\n"
     ]
    },
    {
     "data": {
      "text/plain": [
       "[5, 6, 7, 12, 11, 13]"
      ]
     },
     "execution_count": 62,
     "metadata": {},
     "output_type": "execute_result"
    }
   ],
   "source": [
    "shellSort(arr)"
   ]
  },
  {
   "cell_type": "code",
   "execution_count": 40,
   "metadata": {
    "collapsed": true
   },
   "outputs": [],
   "source": [
    "import math"
   ]
  },
  {
   "cell_type": "code",
   "execution_count": 55,
   "metadata": {},
   "outputs": [
    {
     "data": {
      "text/plain": [
       "[12, 11, 13, 5, 6, 7]"
      ]
     },
     "execution_count": 55,
     "metadata": {},
     "output_type": "execute_result"
    }
   ],
   "source": [
    "arr"
   ]
  },
  {
   "cell_type": "markdown",
   "metadata": {},
   "source": [
    "## Quick Sort\n",
    "\n",
    "### For each subset, move all elements < pivot to left and all elements > pivot to right\n",
    "\n",
    "### Pick a pivot (head, end, or random position)\n",
    "\n",
    "### 1) Start from head\n",
    "\n",
    "### index 1( from second) -> , index 2 (from end)<-\n",
    "\n",
    "### For each pivot\n",
    "\n",
    "- ### while(alist[index 1]$<$ piovt and index 1 $<$ index 2) {index 1 ++ } \n",
    "\n",
    "- ### while(alist[index 2]$>$ pivot and index 1 $<$ index 2) {index 2 --}\n",
    "\n",
    "- ### swap(alist[index1], alist[index2])\n",
    "\n",
    "- ### if (index 1 > index 2) {swap(pivot, alist[index 1])}\n",
    "\n",
    "### 2) Start from end \n",
    "\n",
    "### index 1 (from -1) ->, index 2 (from first) ->\n",
    "\n",
    "### For each pivot\n",
    "\n",
    "- ### while(index 2 < len(alist))\n",
    "\n",
    "    - ### while(alist[index 2] > pivot) {index 2 ++;}\n",
    "\n",
    "    - ### index 1 ++; swap(alist[index 2], alist[index 1])\n",
    "\n",
    "- ### index 1 ++; swap(alist[index 1], pivot)"
   ]
  },
  {
   "cell_type": "code",
   "execution_count": null,
   "metadata": {
    "collapsed": true
   },
   "outputs": [],
   "source": [
    "def quickSort(alist):\n",
    "    for i in range(len(alist)):\n",
    "        pivot = alist[i]\n",
    "        i1 = i + 1\n",
    "        i2 = len(alist) - 1\n",
    "        while (alist[i1] < pivot and i1 < i2)"
   ]
  },
  {
   "cell_type": "code",
   "execution_count": 1,
   "metadata": {
    "collapsed": true
   },
   "outputs": [],
   "source": [
    "a = 12345"
   ]
  },
  {
   "cell_type": "code",
   "execution_count": 4,
   "metadata": {},
   "outputs": [],
   "source": [
    "import math"
   ]
  },
  {
   "cell_type": "code",
   "execution_count": 57,
   "metadata": {},
   "outputs": [
    {
     "name": "stdout",
     "output_type": "stream",
     "text": [
      "[66, 77, 88, 99, 111, 112, 113, 114, 115, 116, 117, 118, 119, 121, 122, 123, 124, 125, 126, 127, 128, 129, 131, 132, 133, 134, 135, 136, 137, 138, 139, 141, 142, 143, 144, 145, 146, 147, 148, 149, 151, 152, 153, 154, 155, 156, 157, 158, 159, 161, 162, 163, 164, 165, 166, 167, 168, 169, 171, 172, 173, 174, 175, 176, 177, 178, 179, 181, 182, 183, 184, 185, 186, 187, 188, 189, 191, 192, 193, 194, 195, 196, 197, 198, 199, 212, 214, 216, 218, 222, 224, 226, 228, 232, 234, 236, 238, 242, 244, 246, 248, 252, 254, 256, 258, 262, 264, 266, 268, 272, 274, 276, 278, 282, 284, 286, 288, 292, 294, 296, 298, 312, 315, 318, 321, 324, 327, 333, 336, 339, 342, 345, 348, 351, 354, 357, 363, 366, 369, 372, 375, 378, 381, 384, 387, 393, 396, 399, 412, 416, 424, 428, 432, 436, 444, 448, 452, 456, 464, 468, 472, 476, 484, 488, 492, 496, 515, 525, 535, 545, 555, 565, 575, 585, 595, 612, 618, 624, 636, 642, 648, 654, 666, 672, 678, 684, 696]\n"
     ]
    }
   ],
   "source": [
    "results = []\n",
    "\n",
    "nums = [i for i in range(66,708) if str(i).count('0') == 0]\n",
    "for num in nums:\n",
    "    digits = []\n",
    "    n = int(math.log(num, 10))\n",
    "    temp = num\n",
    "    isDiv = False\n",
    "    for i in range(n,-1,-1):\n",
    "        digits.append(temp // (10 **(i)))\n",
    "        temp = temp - 10**(i)\n",
    "    for digit in digits:\n",
    "        if num % digit != 0:\n",
    "            break\n",
    "        else:\n",
    "            isDiv = True\n",
    "    if isDiv:\n",
    "        results.append(num)\n",
    "print(results)\n",
    "        "
   ]
  },
  {
   "cell_type": "code",
   "execution_count": 52,
   "metadata": {},
   "outputs": [],
   "source": [
    "nums = [i for i in range(66,708) if str(i).count('0') == 0]"
   ]
  },
  {
   "cell_type": "code",
   "execution_count": 47,
   "metadata": {},
   "outputs": [
    {
     "data": {
      "text/plain": [
       "1"
      ]
     },
     "execution_count": 47,
     "metadata": {},
     "output_type": "execute_result"
    }
   ],
   "source": [
    "111%10"
   ]
  },
  {
   "cell_type": "code",
   "execution_count": 49,
   "metadata": {},
   "outputs": [
    {
     "data": {
      "text/plain": [
       "11"
      ]
     },
     "execution_count": 49,
     "metadata": {},
     "output_type": "execute_result"
    }
   ],
   "source": [
    "1111%100"
   ]
  },
  {
   "cell_type": "code",
   "execution_count": 60,
   "metadata": {},
   "outputs": [
    {
     "data": {
      "text/plain": [
       "9"
      ]
     },
     "execution_count": 60,
     "metadata": {},
     "output_type": "execute_result"
    }
   ],
   "source": [
    "9 // 1"
   ]
  },
  {
   "cell_type": "code",
   "execution_count": 1,
   "metadata": {
    "collapsed": true
   },
   "outputs": [],
   "source": [
    "a = \"a:b:c\""
   ]
  },
  {
   "cell_type": "code",
   "execution_count": 2,
   "metadata": {},
   "outputs": [
    {
     "data": {
      "text/plain": [
       "['a', 'b', 'c']"
      ]
     },
     "execution_count": 2,
     "metadata": {},
     "output_type": "execute_result"
    }
   ],
   "source": [
    "a.split(\":\")"
   ]
  },
  {
   "cell_type": "code",
   "execution_count": 4,
   "metadata": {},
   "outputs": [
    {
     "data": {
      "text/plain": [
       "'c'"
      ]
     },
     "execution_count": 4,
     "metadata": {},
     "output_type": "execute_result"
    }
   ],
   "source": [
    "a.split(':')[2]"
   ]
  },
  {
   "cell_type": "code",
   "execution_count": 6,
   "metadata": {},
   "outputs": [
    {
     "data": {
      "text/plain": [
       "True"
      ]
     },
     "execution_count": 6,
     "metadata": {},
     "output_type": "execute_result"
    }
   ],
   "source": [
    "'a' in a"
   ]
  },
  {
   "cell_type": "code",
   "execution_count": 12,
   "metadata": {
    "collapsed": true
   },
   "outputs": [],
   "source": [
    "a = ['abc', 'ab c', 'a bc', 'a b c','atc','a tc','bcd']"
   ]
  },
  {
   "cell_type": "code",
   "execution_count": 15,
   "metadata": {},
   "outputs": [],
   "source": [
    "d = {}\n",
    "for item in a:\n",
    "    if item.replace(' ','') in d.keys():\n",
    "        d[item.replace(' ','')].append(item)\n",
    "    else:\n",
    "        d[item.replace(' ','')] = [item]"
   ]
  },
  {
   "cell_type": "code",
   "execution_count": 30,
   "metadata": {},
   "outputs": [
    {
     "data": {
      "text/plain": [
       "['a b c', 'a tc', 'bcd']"
      ]
     },
     "execution_count": 30,
     "metadata": {},
     "output_type": "execute_result"
    }
   ],
   "source": [
    "[max(value, key=len) for value in d.values()]"
   ]
  },
  {
   "cell_type": "code",
   "execution_count": null,
   "metadata": {
    "collapsed": true
   },
   "outputs": [],
   "source": []
  }
 ],
 "metadata": {
  "anaconda-cloud": {},
  "kernelspec": {
   "display_name": "Python 3",
   "language": "python",
   "name": "python3"
  },
  "language_info": {
   "codemirror_mode": {
    "name": "ipython",
    "version": 3
   },
   "file_extension": ".py",
   "mimetype": "text/x-python",
   "name": "python",
   "nbconvert_exporter": "python",
   "pygments_lexer": "ipython3",
   "version": "3.7.3"
  }
 },
 "nbformat": 4,
 "nbformat_minor": 1
}
