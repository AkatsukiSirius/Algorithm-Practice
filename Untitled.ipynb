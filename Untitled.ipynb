{
 "cells": [
  {
   "cell_type": "code",
   "execution_count": 60,
   "metadata": {},
   "outputs": [],
   "source": [
    "import os,sys\n",
    "import pandas as pd\n",
    "import numpy as np\n",
    "import math\n",
    "from operator import itemgetter"
   ]
  },
  {
   "cell_type": "code",
   "execution_count": 4,
   "metadata": {},
   "outputs": [],
   "source": [
    "def read_file(file_dir):\n",
    "    '''\n",
    "    :param file_dir: folder name, type is string\n",
    "    :return file_name: excel file name, type is string\n",
    "    it is will return the file name when one file is at the folder\n",
    "    '''\n",
    "    # set a default is None\n",
    "    file_name = None\n",
    "    if os.path.exists(file_dir):\n",
    "        files = os.listdir(file_dir)\n",
    "        if len(files) == 0:\n",
    "            print(\"File not exists, Please check!!!\")\n",
    "        if len(files) == 1:\n",
    "            file_name = files[0]\n",
    "            print(\"File read success: \" + str(file_name))\n",
    "        else:\n",
    "            print(\"There are more than one file under the current folder. Please check!!!\")\n",
    "    else:\n",
    "        print(\"Folder not exists, Please check!!!\")\n",
    "    return file_name"
   ]
  },
  {
   "cell_type": "code",
   "execution_count": 5,
   "metadata": {},
   "outputs": [],
   "source": [
    "def get_dict(self, filename):\n",
    "    '''\n",
    "    read excel file to obtain a dictionary\n",
    "    '''\n",
    "    converters = {col: str for col in (1, 2)}\n",
    "    # read file and return a DataFrame\n",
    "    if filename is not None:\n",
    "        df = pd.read_excel(filename, sheetname='Sheet1', header=0, converters=converters)\n",
    "    df = df.fillna('')\n",
    "    d = {}\n",
    "    for index, row in df.iterrows():\n",
    "        d[row['PKT_NBR']] = [row['SHIPMT_NBR'], row['INVOICE_NBR']]\n",
    "    return d\n",
    "\n",
    "def isFloat(self, value):\n",
    "    try:\n",
    "        float(value)\n",
    "        return True\n",
    "    except ValueError:\n",
    "        return False\n"
   ]
  },
  {
   "cell_type": "code",
   "execution_count": 6,
   "metadata": {},
   "outputs": [
    {
     "name": "stdout",
     "output_type": "stream",
     "text": [
      "File read success: Weekly customer booking list +.xlsx\n"
     ]
    }
   ],
   "source": [
    "source_path = \"D://TSL_Coloading//input\"\n",
    "filename = read_file(source_path)"
   ]
  },
  {
   "cell_type": "code",
   "execution_count": 7,
   "metadata": {},
   "outputs": [
    {
     "name": "stderr",
     "output_type": "stream",
     "text": [
      "D:\\Programs\\Anaconda3\\lib\\site-packages\\pandas\\util\\_decorators.py:188: FutureWarning: The `sheetname` keyword is deprecated, use `sheet_name` instead\n",
      "  return func(*args, **kwargs)\n"
     ]
    }
   ],
   "source": [
    "df = pd.read_excel(source_path + \"/\" + filename, sheetname=\"Sheet2\", header=0)"
   ]
  },
  {
   "cell_type": "code",
   "execution_count": 25,
   "metadata": {},
   "outputs": [],
   "source": [
    "converters = {col: str for col in (0, 0)}"
   ]
  },
  {
   "cell_type": "code",
   "execution_count": 26,
   "metadata": {},
   "outputs": [],
   "source": [
    "df = pd.read_excel(source_path + \"/\" + filename, sheetname='Sheet2', header=0, converters=converters)"
   ]
  },
  {
   "cell_type": "code",
   "execution_count": 27,
   "metadata": {},
   "outputs": [],
   "source": [
    "df = df[pd.notnull(df['JF'])]"
   ]
  },
  {
   "cell_type": "code",
   "execution_count": 100,
   "metadata": {},
   "outputs": [],
   "source": [
    "df = df.sort_values('VOL')"
   ]
  },
  {
   "cell_type": "code",
   "execution_count": 44,
   "metadata": {},
   "outputs": [],
   "source": [
    "leh_cbm_unit_price = 5.00\n",
    "leh_ton_unit_price = 5.00\n",
    "leh_min_charge = 5.00\n",
    "\n",
    "leh_cc_doc_fee = 47.31\n",
    "leh_pp_doc_fee = 60.00\n",
    "\n",
    "leh_cc_cbm_unit_price = 26.92\n",
    "leh_pp_cbm_unit_price = 35.00\n",
    "\n",
    "leh_cc_ton_unit_price = 80.77\n",
    "leh_pp_ton_unit_price = 105.00\n",
    "\n",
    "leh_cc_min_charge = 80.77\n",
    "leh_pp_min_charge = 105.00\n",
    "\n",
    "ningbo_unit_price = 20.00\n",
    "xiamen_unit_price= 30.00\n",
    "\n",
    "mrs_unit_price = 10.00\n",
    "ebu_unit_price = 9.00"
   ]
  },
  {
   "cell_type": "code",
   "execution_count": 95,
   "metadata": {},
   "outputs": [],
   "source": [
    "jfnbr_vol = {}\n",
    "total_vol = 0\n",
    "total_origin_cfs_fee = 0\n",
    "total_income_on_ocean_freight = 0\n",
    "total_income_at_destination = 0\n",
    "pre_carriage_cost = 0\n",
    "on_carriage_cost = 0\n",
    "\n",
    "num_20gp = 0\n",
    "num_40gp = 0\n",
    "num_40hc = 0\n",
    "for index, row in df.iterrows():\n",
    "    total_vol = total_vol + row['VOL']\n",
    "    jfnbr_vol[row['JF']] = row['VOL']\n",
    "    if total_vol\n",
    "    # 1. Income at Origin\n",
    "    origin_cfs_fee = round(max(max(len_cbm_unit_price * row['VOL'],  len_min_charge), len_ton_unit_price * row['KG']/1000),2)\n",
    "    # 2. Income on Ocean Freight\n",
    "    income_on_ocean_freight = round(row['VOL'] * row['O/F '],2)\n",
    "    # 3. Income at Destination\n",
    "    if row['INCOTERM (D=PC;C=PP;E=CC;F=CC)'][0] == 'C':\n",
    "        doc_fee = leh_pp_doc_fee\n",
    "        destination_cfs_fee = round(\\\n",
    "                                    max(max(leh_pp_cbm_unit_price * row['VOL'], \\\n",
    "                                            leh_pp_ton_unit_price * row['KG']/1000), \\\n",
    "                                        leh_pp_min_charge),2)\n",
    "    elif row['INCOTERM (D=PC;C=PP;E=CC;F=CC)'][0] == 'E' or row['INCOTERM (D=PC;C=PP;E=CC;F=CC)'][0] == 'F':\n",
    "        doc_fee = leh_cc_doc_fee\n",
    "        destination_cfs_fee = round(\\\n",
    "                            max(max(leh_cc_cbm_unit_price * row['VOL'], \\\n",
    "                                    leh_cc_ton_unit_price * row['KG']/1000), \\\n",
    "                                leh_cc_min_charge),2)\n",
    "    else:\n",
    "        doc_fee = 0.00\n",
    "        destination_cfs_fee = 0.00\n",
    "    # 4. Cost of Pre-carriage \n",
    "    if row['House Origin'] == 'SHA':\n",
    "        pre_carriage_cost = 0.00\n",
    "    elif row['House Origin'] == 'NGB':\n",
    "        pre_carriage_cost = ningbo_unit_price * row['VOL']\n",
    "    elif row['House Origin'] == 'XMN':\n",
    "        pre_carriage_cost = xiamen_unit_price * row['VOL']\n",
    "    else:\n",
    "        pre_carriage_cost = 0.00\n",
    "        \n",
    "    # 5. On-carriage Cost\n",
    "    if row['FINAL DESTINATION'] == 'LEH':\n",
    "        on_carriage_cost = 0.00\n",
    "    elif row['FINAL DESTINATION'] == 'MRS':\n",
    "        on_carriage_cost = mrs_unit_price * row['VOL']\n",
    "    elif row['FINAL DESTINATION'] == 'EBU':\n",
    "        on_carriage_cost = ebu_unit_price * row['VOL']\n",
    "    else:\n",
    "        on_carriage_cost = 0.00"
   ]
  },
  {
   "cell_type": "code",
   "execution_count": 49,
   "metadata": {},
   "outputs": [
    {
     "data": {
      "text/plain": [
       "64.249"
      ]
     },
     "execution_count": 49,
     "metadata": {},
     "output_type": "execute_result"
    }
   ],
   "source": [
    "total_vol"
   ]
  },
  {
   "cell_type": "code",
   "execution_count": 50,
   "metadata": {},
   "outputs": [],
   "source": [
    "cap_20gp = 25 \n",
    "cap_40gp = 55\n",
    "cap_40hc = 65"
   ]
  },
  {
   "cell_type": "code",
   "execution_count": null,
   "metadata": {},
   "outputs": [],
   "source": [
    "ORIGIN CHARGES Cost for 20GP = 366.75, 40GP = 519, 40 HC = 519\n",
    "OCEANFREIGHT Cost for 20GP = 719, 40GP = 1233, 40 HC = 1233\n",
    "DESTINATION CHARGES Cost for 20GP = 921, 40GP = 1153, 40 HC = 1235\n"
   ]
  },
  {
   "cell_type": "code",
   "execution_count": 39,
   "metadata": {},
   "outputs": [
    {
     "name": "stdout",
     "output_type": "stream",
     "text": [
      "F\n",
      "F\n",
      "F\n",
      "F\n",
      "F\n",
      "D\n",
      "D\n",
      "D\n",
      "F\n",
      "C\n",
      "C\n",
      "C\n",
      "C\n"
     ]
    }
   ],
   "source": [
    "1* 20 GP -> 1* 40 GP -> 1* 40 HC -> 1* 40 HC +1* 20 GP -> 1* 40 HC + 1* 40GP -> 2* 40 HC etc.           "
   ]
  },
  {
   "cell_type": "code",
   "execution_count": 54,
   "metadata": {},
   "outputs": [
    {
     "data": {
      "text/plain": [
       "{'677152': 5.762,\n",
       " '679258': 3.94,\n",
       " '680161': 10.396,\n",
       " '680928': 0.94,\n",
       " '680855': 1.542,\n",
       " '680901': 6.008,\n",
       " '681047': 0.541,\n",
       " '681076': 7.0,\n",
       " '680600': 5.3,\n",
       " '680936': 1.183,\n",
       " '681017': 13.459,\n",
       " '678477': 5.688,\n",
       " '681888': 2.49}"
      ]
     },
     "execution_count": 54,
     "metadata": {},
     "output_type": "execute_result"
    }
   ],
   "source": [
    "jf_vol"
   ]
  },
  {
   "cell_type": "code",
   "execution_count": null,
   "metadata": {},
   "outputs": [],
   "source": [
    "total_vol = cap_20gp * x + cap_40gp * y + cap_40hc * z "
   ]
  },
  {
   "cell_type": "code",
   "execution_count": 70,
   "metadata": {},
   "outputs": [],
   "source": [
    "x = math.ceil(total_vol/cap_20gp)\n",
    "y = math.ceil(total_vol/cap_40gp)\n",
    "z = math.ceil(total_vol/cap_40hc)"
   ]
  },
  {
   "cell_type": "code",
   "execution_count": 74,
   "metadata": {},
   "outputs": [
    {
     "data": {
      "text/plain": [
       "(3, 2, 1)"
      ]
     },
     "execution_count": 74,
     "metadata": {},
     "output_type": "execute_result"
    }
   ],
   "source": [
    "x,y,z"
   ]
  },
  {
   "cell_type": "code",
   "execution_count": 68,
   "metadata": {},
   "outputs": [],
   "source": [
    "num_20gp = 0\n",
    "num_40gp = 0\n",
    "num_40hc = 0\n",
    "\n",
    "item_in_20gp = []\n",
    "item_in_40gp = []\n",
    "item_in_40hc = []"
   ]
  },
  {
   "cell_type": "code",
   "execution_count": 75,
   "metadata": {},
   "outputs": [],
   "source": [
    "total_vol = 64.249"
   ]
  },
  {
   "cell_type": "code",
   "execution_count": 76,
   "metadata": {},
   "outputs": [],
   "source": [
    "total_vol = 10"
   ]
  },
  {
   "cell_type": "code",
   "execution_count": 64,
   "metadata": {},
   "outputs": [
    {
     "name": "stdout",
     "output_type": "stream",
     "text": [
      "1\n",
      "2\n",
      "3\n"
     ]
    }
   ],
   "source": [
    "if x == 1:\n",
    "    num_20gp = 1\n",
    "    num_40gp = 0\n",
    "    num_40hc = 0\n",
    "    item_in_20gp = [key for key in jf_vol.keys()]\n",
    "else:\n",
    "    if y == 1:\n",
    "        num_20gp = 0\n",
    "        num_40gp = 1\n",
    "        num_40hc = 0\n",
    "        item_in_40gp = [key for key in jf_vol.keys()]\n",
    "    else: \n",
    "        if z == 1:\n",
    "            num_20gp = 0\n",
    "            num_40gp = 1\n",
    "            num_40hc = 0\n",
    "            item_in_40hc = [key for key in jf_vol.keys()]\n",
    "        else:\n",
    "            for i in range(1, n + 1):\n",
    "                "
   ]
  },
  {
   "cell_type": "code",
   "execution_count": 97,
   "metadata": {},
   "outputs": [
    {
     "name": "stdout",
     "output_type": "stream",
     "text": [
      "0.541\n",
      "0.94\n",
      "1.183\n",
      "1.542\n",
      "2.49\n",
      "3.94\n",
      "5.3\n",
      "5.688\n",
      "5.762\n",
      "6.008\n",
      "7.0\n",
      "10.396\n",
      "13.459\n"
     ]
    }
   ],
   "source": [
    "num_20gp = 0\n",
    "num_40gp = 0\n",
    "num_40hc = 0\n",
    "for index, row in df.iterrows():\n",
    "    total_vol = total_vol + row['VOL']\n",
    "    if total_vol <= cap_20gp:\n",
    "        item_in_20gp.append(row['JF'])\n",
    "    elif total_vol > cap_20gp and total_vol <= cap_40gp:\n",
    "        item_in_40gp = item_in_20gp\n",
    "        item_in_20gp = []\n",
    "        tem_in_40gp.append(row['JF'])\n",
    "    elif total_vol <= cap_40hc and total_vol > cap_40gp:\n",
    "        item_in_40hc = item_in_40gp\n",
    "        item_in_40gp = []\n",
    "        tem_in_40hc.append(row['JF'])\n",
    "    else:\n",
    "        "
   ]
  },
  {
   "cell_type": "code",
   "execution_count": 103,
   "metadata": {},
   "outputs": [
    {
     "data": {
      "text/plain": [
       "{'677152': 5.762,\n",
       " '679258': 3.94,\n",
       " '680161': 10.396,\n",
       " '680928': 0.94,\n",
       " '680855': 1.542,\n",
       " '680901': 6.008,\n",
       " '681047': 0.541,\n",
       " '681076': 7.0,\n",
       " '680600': 5.3,\n",
       " '680936': 1.183,\n",
       " '681017': 13.459,\n",
       " '678477': 5.688,\n",
       " '681888': 2.49}"
      ]
     },
     "execution_count": 103,
     "metadata": {},
     "output_type": "execute_result"
    }
   ],
   "source": [
    "jfnbr_vol"
   ]
  },
  {
   "cell_type": "code",
   "execution_count": null,
   "metadata": {},
   "outputs": [],
   "source": []
  }
 ],
 "metadata": {
  "kernelspec": {
   "display_name": "Python 3",
   "language": "python",
   "name": "python3"
  },
  "language_info": {
   "codemirror_mode": {
    "name": "ipython",
    "version": 3
   },
   "file_extension": ".py",
   "mimetype": "text/x-python",
   "name": "python",
   "nbconvert_exporter": "python",
   "pygments_lexer": "ipython3",
   "version": "3.7.3"
  }
 },
 "nbformat": 4,
 "nbformat_minor": 2
}
