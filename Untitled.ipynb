{
 "cells": [
  {
   "cell_type": "markdown",
   "metadata": {},
   "source": [
    "# JSON"
   ]
  },
  {
   "cell_type": "markdown",
   "metadata": {},
   "source": [
    "## The JSON Syntax\n",
    "\n",
    "- JSON based on 3 data type:\n",
    "\n",
    "    - Name - value pair\n",
    "    \n",
    "        - \"first_name\" : \"Jacob\"\n",
    "    \n",
    "    - JSON Object (collection of name-value pairs or Arrays encased in curly brackets.)\n",
    "    \n",
    "        - { \"first_name\":\"Jacob\" , \"last_name\":\"Bellamy\" }\n",
    "    \n",
    "    - JSON Array (A list of values encased in square brackets.)\n",
    "    \n",
    "        - {\"courses\": [\"Compsci 101\", \"Compsci 105\", \"Compsci 107\"]}\n",
    "    "
   ]
  },
  {
   "cell_type": "code",
   "execution_count": null,
   "metadata": {},
   "outputs": [],
   "source": []
  }
 ],
 "metadata": {
  "kernelspec": {
   "display_name": "Python 3",
   "language": "python",
   "name": "python3"
  },
  "language_info": {
   "codemirror_mode": {
    "name": "ipython",
    "version": 3
   },
   "file_extension": ".py",
   "mimetype": "text/x-python",
   "name": "python",
   "nbconvert_exporter": "python",
   "pygments_lexer": "ipython3",
   "version": "3.6.5"
  }
 },
 "nbformat": 4,
 "nbformat_minor": 2
}
