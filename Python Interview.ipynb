{
 "cells": [
  {
   "cell_type": "markdown",
   "metadata": {},
   "source": [
    "# Variable Reference"
   ]
  },
  {
   "cell_type": "markdown",
   "metadata": {},
   "source": [
    "## immutable"
   ]
  },
  {
   "cell_type": "code",
   "execution_count": 3,
   "metadata": {},
   "outputs": [],
   "source": [
    "def fun(a):\n",
    "    print(\"func_in : \",id(a),\"; value: \", a)   # func_in 41322472\n",
    "    a = 2\n",
    "    print(\"func, re-point\",id(a), id(2), \"; value: \", a)   # re-point 41322448 41322448\n",
    "    return id(a)"
   ]
  },
  {
   "cell_type": "code",
   "execution_count": 7,
   "metadata": {},
   "outputs": [
    {
     "name": "stdout",
     "output_type": "stream",
     "text": [
      "previous address:  1931373584 ; value:  1\n",
      "func_in :  1931373584\n",
      "re-point 1931373616 1931373616 ; value:  2\n",
      "internal address:  2 ; value:  1\n",
      "current address:  1931373584 ; value:  1\n"
     ]
    }
   ],
   "source": [
    "a = 1\n",
    "pre_addr = id(a)\n",
    "print(\"previous address: \", pre_addr, \"; value: \", a)\n",
    "internal = fun(a)\n",
    "print(\"internal address: \", internal, \"; value: \", a)\n",
    "cur_addr = id(a)\n",
    "print(\"current address: \", cur_addr, \"; value: \", a)"
   ]
  },
  {
   "cell_type": "code",
   "execution_count": 8,
   "metadata": {},
   "outputs": [
    {
     "name": "stdout",
     "output_type": "stream",
     "text": [
      "in function, address changed\n"
     ]
    }
   ],
   "source": [
    "if pre_addr == internal:\n",
    "    print(\"in function, address unchanged\")\n",
    "else:\n",
    "    print(\"in function, address changed\")"
   ]
  },
  {
   "cell_type": "code",
   "execution_count": 12,
   "metadata": {},
   "outputs": [],
   "source": [
    "def fun(a):\n",
    "    print(\"func_in : \",id(a), \"; value: \", a)   # func_in 41322472\n",
    "    a = 2\n",
    "    print(\"func in, re-point\",id(a), id(2),)   # re-point 41322448 41322448\n",
    "    return a"
   ]
  },
  {
   "cell_type": "code",
   "execution_count": 13,
   "metadata": {},
   "outputs": [
    {
     "name": "stdout",
     "output_type": "stream",
     "text": [
      "previous address:  1931373584 ; value:  1\n",
      "func_in :  1931373584 ; value:  1\n",
      "func in, re-point 1931373616 1931373616\n",
      "current address:  1931373584 ; value:  1\n"
     ]
    }
   ],
   "source": [
    "a = 1\n",
    "pre_addr = id(a)\n",
    "print(\"previous address: \", id(a), \"; value: \", a)\n",
    "fun(a)\n",
    "cur_addr = id(a)\n",
    "print(\"current address: \", id(a), \"; value: \", a)"
   ]
  },
  {
   "cell_type": "code",
   "execution_count": 9,
   "metadata": {},
   "outputs": [
    {
     "name": "stdout",
     "output_type": "stream",
     "text": [
      "address unchanged\n"
     ]
    }
   ],
   "source": [
    "if pre_addr == cur_addr:\n",
    "    print(\"address unchanged\")\n",
    "else:\n",
    "    print(\"address changed\")"
   ]
  },
  {
   "cell_type": "markdown",
   "metadata": {},
   "source": [
    "## mutable"
   ]
  },
  {
   "cell_type": "code",
   "execution_count": 14,
   "metadata": {},
   "outputs": [],
   "source": [
    "def fun(a):\n",
    "    print(\"func_in: \", id(a),\"; value: \", a)\n",
    "    a.append(1)\n",
    "    print(\"re-point: \", id(a), \"; value:\", a)\n",
    "    return id(a)"
   ]
  },
  {
   "cell_type": "code",
   "execution_count": 15,
   "metadata": {},
   "outputs": [
    {
     "name": "stdout",
     "output_type": "stream",
     "text": [
      "previous address:  2263217396744 ; value: [2]\n",
      "func_in:  2263217396744 ; value:  [2]\n",
      "re-point:  2263217396744 ; value: [2, 1]\n",
      "internal address:  2263217396744 ; value: [2, 1]\n",
      "current address:  2263217396744 ; value: [2, 1]\n",
      "address unchanged\n"
     ]
    }
   ],
   "source": [
    "a = [2]\n",
    "pre_addr = id(a)\n",
    "print(\"previous address: \", pre_addr, \"; value:\", a)\n",
    "internal = fun(a)\n",
    "print(\"internal address: \", internal, \"; value:\", a)\n",
    "cur_addr = id(a)\n",
    "print(\"current address: \", cur_addr, \"; value:\", a)"
   ]
  },
  {
   "cell_type": "code",
   "execution_count": 17,
   "metadata": {},
   "outputs": [
    {
     "name": "stdout",
     "output_type": "stream",
     "text": [
      "in function, address unchanged\n"
     ]
    }
   ],
   "source": [
    "if pre_addr == internal:\n",
    "    print(\"in function, address unchanged\")\n",
    "else:\n",
    "    print(\"in function, address changed\")"
   ]
  },
  {
   "cell_type": "markdown",
   "metadata": {},
   "source": [
    "# [Deep Copy vs. Shallow Copy](http://www.zxiaoji.com/?p=479)"
   ]
  },
  {
   "cell_type": "markdown",
   "metadata": {},
   "source": [
    "## Deep Copy"
   ]
  },
  {
   "cell_type": "markdown",
   "metadata": {},
   "source": [
    "### Immutable "
   ]
  },
  {
   "cell_type": "code",
   "execution_count": 7,
   "metadata": {},
   "outputs": [],
   "source": [
    "import copy"
   ]
  },
  {
   "cell_type": "code",
   "execution_count": 48,
   "metadata": {},
   "outputs": [],
   "source": [
    "a = \"abc\"\n",
    "b = a\n",
    "c = copy.copy(a)\n",
    "d = copy.deepcopy(a)"
   ]
  },
  {
   "cell_type": "code",
   "execution_count": 49,
   "metadata": {},
   "outputs": [
    {
     "name": "stdout",
     "output_type": "stream",
     "text": [
      "a address:  2131906647800\n"
     ]
    }
   ],
   "source": [
    "print(\"a address: \", id(a))"
   ]
  },
  {
   "cell_type": "code",
   "execution_count": 50,
   "metadata": {},
   "outputs": [
    {
     "name": "stdout",
     "output_type": "stream",
     "text": [
      "assign a to b: id(b) ->>>  2131906647800\n"
     ]
    }
   ],
   "source": [
    "print(\"assign a to b: id(b) ->>> \", id(b))"
   ]
  },
  {
   "cell_type": "code",
   "execution_count": 51,
   "metadata": {},
   "outputs": [
    {
     "name": "stdout",
     "output_type": "stream",
     "text": [
      "shallow copy a to c: id(c) ->>>  2131906647800\n"
     ]
    }
   ],
   "source": [
    "print(\"shallow copy a to c: id(c) ->>> \", id(c))"
   ]
  },
  {
   "cell_type": "code",
   "execution_count": 52,
   "metadata": {},
   "outputs": [
    {
     "name": "stdout",
     "output_type": "stream",
     "text": [
      "deep copy a to d: id(d) ->>>  2131906647800\n"
     ]
    }
   ],
   "source": [
    "print(\"deep copy a to d: id(d) ->>> \", id(d))"
   ]
  },
  {
   "cell_type": "markdown",
   "metadata": {},
   "source": [
    "- Since a, b, c, d are all immutable object with same value, and python uses referece count to manage the address, so, they are all assigned to same address in memory."
   ]
  },
  {
   "cell_type": "markdown",
   "metadata": {},
   "source": [
    "### Mutable"
   ]
  },
  {
   "cell_type": "code",
   "execution_count": 6,
   "metadata": {},
   "outputs": [],
   "source": [
    "a = ['abc']"
   ]
  },
  {
   "cell_type": "code",
   "execution_count": 11,
   "metadata": {},
   "outputs": [],
   "source": [
    "b = a"
   ]
  },
  {
   "cell_type": "code",
   "execution_count": 15,
   "metadata": {},
   "outputs": [],
   "source": [
    "c = copy.copy(a)"
   ]
  },
  {
   "cell_type": "code",
   "execution_count": 12,
   "metadata": {},
   "outputs": [
    {
     "name": "stdout",
     "output_type": "stream",
     "text": [
      "address:  2131963204040  value:  ['abc']\n"
     ]
    }
   ],
   "source": [
    "print(\"address: \", id(a), \" value: \", a)"
   ]
  },
  {
   "cell_type": "code",
   "execution_count": 14,
   "metadata": {},
   "outputs": [
    {
     "name": "stdout",
     "output_type": "stream",
     "text": [
      "assign a to b:  2131963204040  value:  ['abc']\n"
     ]
    }
   ],
   "source": [
    "print(\"assign a to b: \", id(b), \" value: \", b)"
   ]
  },
  {
   "cell_type": "code",
   "execution_count": 17,
   "metadata": {},
   "outputs": [
    {
     "name": "stdout",
     "output_type": "stream",
     "text": [
      "shallow copy:  2131963324616  value:  ['abc']\n"
     ]
    }
   ],
   "source": [
    "print(\"shallow copy: \", id(c), \" value: \", c)"
   ]
  },
  {
   "cell_type": "markdown",
   "metadata": {},
   "source": [
    "- the address changed after shallow copy, which means shallow copy will create an object and assign memory to it."
   ]
  },
  {
   "cell_type": "markdown",
   "metadata": {},
   "source": [
    "#### Look inside the list"
   ]
  },
  {
   "cell_type": "code",
   "execution_count": 39,
   "metadata": {},
   "outputs": [],
   "source": [
    "a = [['abc'],'de']\n",
    "c = copy.copy(a)"
   ]
  },
  {
   "cell_type": "code",
   "execution_count": 40,
   "metadata": {},
   "outputs": [
    {
     "name": "stdout",
     "output_type": "stream",
     "text": [
      "before changing, a address:  2131962424584 [2131962424456, 2131917924368]  a value:  [['abc'], 'de']\n",
      "before changing, c address:  2131962456072 [2131962424456, 2131917924368]  c value:  [['abc'], 'de']\n"
     ]
    }
   ],
   "source": [
    "print(\"before changing, a address: \", id(a), [id(_)for _ in a], \" a value: \", a)\n",
    "print(\"before changing, c address: \",id(c), [id(_)for _ in c], \" c value: \", c)"
   ]
  },
  {
   "cell_type": "code",
   "execution_count": 41,
   "metadata": {},
   "outputs": [],
   "source": [
    "a[0][0] = 'fgh'\n",
    "a[1] = 'ij'"
   ]
  },
  {
   "cell_type": "code",
   "execution_count": 43,
   "metadata": {},
   "outputs": [
    {
     "name": "stdout",
     "output_type": "stream",
     "text": [
      "after changing, a address:  2131962424584 [2131962424456, 2131964032872]  a value:  [['fgh'], 'ij']\n",
      "after changing, c address:  2131962456072 [2131962424456, 2131917924368]  c value:  [['fgh'], 'de']\n"
     ]
    }
   ],
   "source": [
    "print(\"after changing, a address: \", id(a), [id(_)for _ in a], \" a value: \", a)\n",
    "print(\"after changing, c address: \",id(c), [id(_)for _ in c], \" c value: \", c)"
   ]
  },
  {
   "cell_type": "markdown",
   "metadata": {},
   "source": [
    "## Deep Copy"
   ]
  },
  {
   "cell_type": "code",
   "execution_count": 44,
   "metadata": {},
   "outputs": [],
   "source": [
    "a = [['abc'],'de']\n",
    "c = copy.deepcopy(a)"
   ]
  },
  {
   "cell_type": "code",
   "execution_count": 45,
   "metadata": {},
   "outputs": [
    {
     "name": "stdout",
     "output_type": "stream",
     "text": [
      "before changing, a address:  2131964072392 [2131964073224, 2131917924368]  a value:  [['abc'], 'de']\n",
      "before changing, c address:  2131963206920 [2131964059272, 2131917924368]  c value:  [['abc'], 'de']\n"
     ]
    }
   ],
   "source": [
    "print(\"before changing, a address: \", id(a), [id(_)for _ in a], \" a value: \", a)\n",
    "print(\"before changing, c address: \",id(c), [id(_)for _ in c], \" c value: \", c)"
   ]
  },
  {
   "cell_type": "code",
   "execution_count": 46,
   "metadata": {},
   "outputs": [],
   "source": [
    "a[0][0] = 'fgh'\n",
    "a[1] = 'ij'"
   ]
  },
  {
   "cell_type": "code",
   "execution_count": 47,
   "metadata": {},
   "outputs": [
    {
     "name": "stdout",
     "output_type": "stream",
     "text": [
      "after changing, a address:  2131964072392 [2131964073224, 2131964014296]  a value:  [['fgh'], 'ij']\n",
      "after changing, c address:  2131963206920 [2131964059272, 2131917924368]  c value:  [['abc'], 'de']\n"
     ]
    }
   ],
   "source": [
    "print(\"after changing, a address: \", id(a), [id(_)for _ in a], \" a value: \", a)\n",
    "print(\"after changing, c address: \",id(c), [id(_)for _ in c], \" c value: \", c)"
   ]
  },
  {
   "cell_type": "markdown",
   "metadata": {},
   "source": [
    "- deep copy will assign new memory for the first element of a list after deep copy"
   ]
  },
  {
   "cell_type": "markdown",
   "metadata": {},
   "source": [
    "# [reference count](https://secweb.cs.odu.edu/~zeil/cs361/web/website/Lectures/garbageCollection/pages/referenceCounting.html)"
   ]
  },
  {
   "cell_type": "markdown",
   "metadata": {},
   "source": [
    "- A technique for implementing garbage collection."
   ]
  },
  {
   "cell_type": "code",
   "execution_count": null,
   "metadata": {},
   "outputs": [],
   "source": []
  },
  {
   "cell_type": "markdown",
   "metadata": {},
   "source": [
    "# [Metaclass](https://realpython.com/python-metaclasses/)"
   ]
  },
  {
   "cell_type": "markdown",
   "metadata": {},
   "source": [
    "The class of a class. \n",
    "\n",
    "Class definitions create:\n",
    "\n",
    "- a class name, \n",
    "\n",
    "- a class dictionary, and \n",
    "\n",
    "- a list of base classes. \n",
    "\n",
    "The metaclass is responsible for taking those three arguments and creating the class. \n",
    "\n",
    "Most object oriented programming languages provide a default implementation. \n",
    "\n",
    "What makes Python special is that it is possible to create custom metaclasses. \n",
    "\n",
    "Most users never need this tool, but when the need arises, metaclasses can provide powerful, elegant solutions. \n",
    "\n",
    "They have been used for \n",
    "\n",
    "- logging attribute access, \n",
    "\n",
    "- adding thread-safety, \n",
    "\n",
    "- tracking object creation, \n",
    "\n",
    "- implementing singletons, and many other tasks."
   ]
  },
  {
   "cell_type": "markdown",
   "metadata": {},
   "source": [
    "## \\_\\_new__ vs. \\_\\_init__"
   ]
  },
  {
   "cell_type": "markdown",
   "metadata": {},
   "source": [
    "- \\_\\_new__ is invoked before \\_\\_init__\n",
    "\n",
    "- \\_\\_new__ is used to create object of current class and then, invoke \\_\\_init__\n",
    "\n",
    "- \\_\\_new__ contains no return -> \\_\\_init__ will not be invoked\n",
    "\n",
    "- \\_\\_init__ is used to initialize object during the creation of a class\n",
    "\n",
    "- \\_\\_new__ to control and custom class\n",
    "\n",
    "Use \\_\\_new__ when you need to control the creation of a new instance, constructor, (subclassing an immutable type like str, int, unicode or tuple). \n",
    "\n",
    "Use \\_\\_init__ when you need to control initialization of a new instance, initializer."
   ]
  },
  {
   "cell_type": "markdown",
   "metadata": {},
   "source": [
    "Always use self for the first argument to instance methods.\n",
    "\n",
    "Always use cls for the first argument to class methods."
   ]
  },
  {
   "cell_type": "code",
   "execution_count": 59,
   "metadata": {},
   "outputs": [],
   "source": [
    "class A(object):\n",
    "    \n",
    "    def __new__(cls):\n",
    "        print(\"A.__new__ is called\")  # -> this is never called\n",
    "        return super(A, cls).__new__(cls)\n",
    "        \n",
    "    def __init__(self):\n",
    "        print(\"A.__init__ called\")\n",
    "        "
   ]
  },
  {
   "cell_type": "code",
   "execution_count": 61,
   "metadata": {},
   "outputs": [
    {
     "name": "stdout",
     "output_type": "stream",
     "text": [
      "A.__new__ is called\n",
      "A.__init__ called\n",
      "<__main__.A object at 0x00000235104C7080>\n"
     ]
    }
   ],
   "source": [
    "A()"
   ]
  },
  {
   "cell_type": "markdown",
   "metadata": {},
   "source": [
    "## super()"
   ]
  },
  {
   "cell_type": "markdown",
   "metadata": {},
   "source": [
    "## type()"
   ]
  },
  {
   "cell_type": "code",
   "execution_count": 65,
   "metadata": {},
   "outputs": [
    {
     "name": "stdout",
     "output_type": "stream",
     "text": [
      "<class 'type'>\n",
      "<class 'type'>\n",
      "<class 'type'>\n",
      "<class 'type'>\n",
      "<class 'type'>\n",
      "<class 'type'>\n"
     ]
    }
   ],
   "source": [
    "for t in int, float, dict, list, tuple, type:\n",
    "    print(type(t))"
   ]
  },
  {
   "cell_type": "code",
   "execution_count": 66,
   "metadata": {},
   "outputs": [],
   "source": [
    "class Foo:\n",
    "    pass"
   ]
  },
  {
   "cell_type": "code",
   "execution_count": 67,
   "metadata": {},
   "outputs": [],
   "source": [
    "x = Foo()"
   ]
  },
  {
   "cell_type": "code",
   "execution_count": 68,
   "metadata": {},
   "outputs": [
    {
     "data": {
      "text/plain": [
       "__main__.Foo"
      ]
     },
     "execution_count": 68,
     "metadata": {},
     "output_type": "execute_result"
    }
   ],
   "source": [
    "type(x)"
   ]
  },
  {
   "cell_type": "code",
   "execution_count": 69,
   "metadata": {},
   "outputs": [
    {
     "data": {
      "text/plain": [
       "type"
      ]
     },
     "execution_count": 69,
     "metadata": {},
     "output_type": "execute_result"
    }
   ],
   "source": [
    "type(Foo)"
   ]
  },
  {
   "cell_type": "markdown",
   "metadata": {},
   "source": [
    "# [Compilers and Interpreters](https://hackernoon.com/compilers-and-interpreters-3e354a2e41cf)"
   ]
  },
  {
   "cell_type": "markdown",
   "metadata": {},
   "source": [
    "## Compiler"
   ]
  },
  {
   "cell_type": "markdown",
   "metadata": {},
   "source": [
    "- A program that translates code written in a high-level programming language (like JavaScript or Java) into low-level code (like Assembly) directly executable by the computer or another program (e.g. virtual machine)."
   ]
  },
  {
   "cell_type": "markdown",
   "metadata": {},
   "source": [
    "### front end (lexical analysis, syntax analysis, semantic analysis and intermediate code generation)\n",
    "\n",
    "- scans the submitted source code for syntax errors, checks (and infers if necessary) the type of each declared variable and ensures that each variable is declared before use. If there is any error, it provides informative error messages to the user.\n",
    "\n",
    "- symbol table, a data structure which contains information about all the symbols found in the source code. \n",
    "\n",
    "- intermediate representation of the code, (if no error is detected) is built from the source code and passed as input to the second part."
   ]
  },
  {
   "cell_type": "markdown",
   "metadata": {},
   "source": [
    "#### Lexical Analysis"
   ]
  },
  {
   "cell_type": "markdown",
   "metadata": {},
   "source": [
    "compiler breaks the submitted source code into meaningful elements called lexemes and generates a sequence of tokens from the lexemes.\n",
    "\n",
    "- lexeme, a uniquely identifiable string of characters in the source programming language, \n",
    "\n",
    "    - e.g. if, while or func, identifiers, strings, numbers, operators or single characters like (, ), . or :\n",
    "    \n",
    "- token, an object describing a lexeme. Along with the value of the lexeme (the actual string of characters of the lexeme), contains\n",
    "\n",
    "    - information such as its type (is it a keyword? an identifier? an operator? …)\n",
    "    \n",
    "    - the position (line and/or column number) in the source code where it appears.\n",
    "    \n",
    "    - if fail to create a token, it will stop its execution by throwing an error"
   ]
  },
  {
   "cell_type": "markdown",
   "metadata": {},
   "source": [
    "#### Syntax Analysis\n",
    "\n",
    "During syntax analysis, the compiler uses the sequence of tokens generated during the lexical analysis to generate a tree-like data structure called Abstract Syntax Tree, AST for short. \n",
    "\n",
    "- The AST reflects the syntactic and logical structure of the program.\n",
    "\n",
    "- Abstract Syntax Tree generated after syntax analysis"
   ]
  },
  {
   "cell_type": "markdown",
   "metadata": {},
   "source": [
    "#### Semantic Analysis\n",
    "\n",
    "During semantic analysis, the compiler uses the AST generated during syntax analysis to check if the program is consistent with all the rules of the source programming language. Semantic analysis encompasses\n",
    "\n",
    "- Type Inference:\n",
    "\n",
    "    - automatic deduction of the data types of specific expressions in a programming language, usually done at compile time. \n",
    "    \n",
    "    - It involves analyzing a program and then inferring the different types of some or all expressions in that program so that the programmer does not need to explicitly input and define data types every time variables are used in the program.\n",
    "    \n",
    "- Type checking:\n",
    "    \n",
    "- Symbol management:\n",
    "\n",
    "    - symbol table, contains information about all the symbols (or names) encountered in the program.\n",
    "    \n",
    "        - Is this variable declared before use?\n",
    "        \n",
    "        - Are there 2 variables with the same name in the same scope? \n",
    "        \n",
    "        - What is the type of this variable? \n",
    "        \n",
    "        - Is this variable available in the current scope?"
   ]
  },
  {
   "cell_type": "markdown",
   "metadata": {},
   "source": [
    "The output of the semantic analysis phase is an annotated AST and the symbol table."
   ]
  },
  {
   "cell_type": "markdown",
   "metadata": {},
   "source": [
    "#### Intermediate Code Generation"
   ]
  },
  {
   "cell_type": "markdown",
   "metadata": {},
   "source": [
    "After the semantic analysis phase, the compiler uses the annotated AST to generate an intermediate and machine-independent low-level code. (e.g. three-address code)"
   ]
  },
  {
   "cell_type": "markdown",
   "metadata": {},
   "source": [
    "The three-address code (3AC), in its simplest form, is a language in which an instruction is an assignment and has at most 3 operands.\n",
    "\n",
    "Most instructions in 3AC are of the form a := b $<operator>$ c or a := b.\n",
    "\n",
    "The intermediate code generation concludes the front end phase of the compiler."
   ]
  },
  {
   "cell_type": "markdown",
   "metadata": {},
   "source": [
    "### back end (optimization and code generation)\n",
    "\n",
    "- uses the intermediate representation and the symbol table built by the front end to generate low-level code."
   ]
  },
  {
   "cell_type": "markdown",
   "metadata": {},
   "source": [
    "#### Optimization\n",
    "\n",
    "- simply the iternediate code"
   ]
  },
  {
   "cell_type": "markdown",
   "metadata": {},
   "source": [
    "#### Code Generation\n",
    "\n",
    "- generate assembly (or other low - level code)"
   ]
  },
  {
   "cell_type": "markdown",
   "metadata": {},
   "source": [
    "## [Interperator](https://www.cnblogs.com/sword03/archive/2010/06/27/1766147.html)"
   ]
  },
  {
   "cell_type": "markdown",
   "metadata": {},
   "source": [
    "- an interpreter directly executes the instructions in the source programming language while a compiler translates those instructions into efficient machine code.\n",
    "\n",
    "- An interpreter will typically generate an efficient intermediate representation and immediately evaluate it. \n",
    "\n",
    "- Depending on the interpreter, the intermediate representation can be an AST, an annotated AST or a machine-independent low-level representation such as the three-address code.\n",
    "\n",
    "- The python interpreter stores the last expression value to the special variable called ‘_’. "
   ]
  },
  {
   "cell_type": "markdown",
   "metadata": {},
   "source": [
    "# Factory Function(Encapsulating Object Creation, polymorphism)"
   ]
  },
  {
   "cell_type": "markdown",
   "metadata": {},
   "source": [
    "- A function which creates another object.\n",
    "\n",
    "- A nested function or classes with inheritance\n",
    "\n",
    "- What for?\n",
    "\n",
    "    - May not always know what kind of objects we want to create in advance.Some objects can be created only at execution time after a user requests so.\n",
    "\n",
    "- Usage:\n",
    "\n",
    "    - A user may click on a certain button that creates an object.\n",
    "\n",
    "    - A user may create several new documents of different types.\n",
    "\n",
    "    - If a user starts a web browser, the browser does not know in advance how many tabs (where every tab is an object) will be opened."
   ]
  },
  {
   "cell_type": "markdown",
   "metadata": {},
   "source": [
    "- Purpose:\n",
    "\n",
    "    - Add new types to system and do not effect the existing code\n",
    "    \n",
    "    - Problem with inheritance?\n",
    "    \n",
    "        - must create an object of new type, and \n",
    "        \n",
    "        - must specify the exact constructor to use \n",
    "\n",
    "- Solution:\n",
    "\n",
    "    - force the creation of objects to occur through a common factory rather than to allow the creational code to be spread throughout system\n",
    "    \n",
    "    - to create object, modify the functory function"
   ]
  },
  {
   "cell_type": "markdown",
   "metadata": {},
   "source": [
    "## [Example - Shape](https://python-3-patterns-idioms-test.readthedocs.io/en/latest/Factory.html)"
   ]
  },
  {
   "cell_type": "code",
   "execution_count": 1,
   "metadata": {},
   "outputs": [],
   "source": [
    "# Factory/shapefact1/ShapeFactory1.py\n",
    "# A simple static factory method.\n",
    "from __future__ import generators\n",
    "import random\n",
    "\n",
    "class Shape(object):\n",
    "    # Create based on class name:\n",
    "    def factory(type):\n",
    "        #return eval(type + \"()\")\n",
    "        if type == \"Circle\": return Circle()\n",
    "        if type == \"Square\": return Square()\n",
    "        assert 0, \"Bad shape creation: \" + type\n",
    "    factory = staticmethod(factory)\n",
    "\n",
    "class Circle(Shape):\n",
    "    def draw(self): print(\"Circle.draw\")\n",
    "    def erase(self): print(\"Circle.erase\")\n",
    "\n",
    "class Square(Shape):\n",
    "    def draw(self): print(\"Square.draw\")\n",
    "    def erase(self): print(\"Square.erase\")\n",
    "\n",
    "# Generate shape name strings:\n",
    "def shapeNameGen(n):\n",
    "    types = Shape.__subclasses__()\n",
    "    for i in range(n):\n",
    "        yield random.choice(types).__name__\n"
   ]
  },
  {
   "cell_type": "code",
   "execution_count": 3,
   "metadata": {},
   "outputs": [
    {
     "name": "stdout",
     "output_type": "stream",
     "text": [
      "Circle.draw\n",
      "Circle.erase\n",
      "Square.draw\n",
      "Square.erase\n",
      "Square.draw\n",
      "Square.erase\n",
      "Circle.draw\n",
      "Circle.erase\n",
      "Circle.draw\n",
      "Circle.erase\n",
      "Square.draw\n",
      "Square.erase\n",
      "Circle.draw\n",
      "Circle.erase\n"
     ]
    }
   ],
   "source": [
    "shapes = \\\n",
    "  [ Shape.factory(i) for i in shapeNameGen(7)]\n",
    "\n",
    "for shape in shapes:\n",
    "    shape.draw()\n",
    "    shape.erase()"
   ]
  },
  {
   "cell_type": "markdown",
   "metadata": {},
   "source": [
    "- yield: generator\n",
    "\n",
    "- \\_\\_subclasses\\_\\_( ): produces a list of references to each of the subclasses of Shape"
   ]
  },
  {
   "cell_type": "markdown",
   "metadata": {},
   "source": [
    "# ORM(Object Relational Mapping)"
   ]
  },
  {
   "cell_type": "markdown",
   "metadata": {},
   "source": [
    "# decorator "
   ]
  },
  {
   "cell_type": "markdown",
   "metadata": {},
   "source": [
    "- to modify the behavior of function or class. \n",
    "\n",
    "- to wrap another function in order to extend the behavior of wrapped function, without permanently modifying it.\n",
    "\n",
    "In Decorators, functions are taken as the argument into another function and then called inside the wrapper function."
   ]
  },
  {
   "cell_type": "markdown",
   "metadata": {},
   "source": [
    "## [Example](https://baijiahao.baidu.com/s?id=1626911318049316751&wfr=spider&for=pc)"
   ]
  },
  {
   "cell_type": "markdown",
   "metadata": {},
   "source": [
    "1. Function: getList(), randomly get n numbers from $0 $~$ 10^8$\n",
    "\n",
    "2. Add more functionalities, such as counting and time comsuming."
   ]
  },
  {
   "cell_type": "code",
   "execution_count": 1,
   "metadata": {},
   "outputs": [],
   "source": [
    "import random\n",
    "import time"
   ]
  },
  {
   "cell_type": "code",
   "execution_count": 2,
   "metadata": {},
   "outputs": [],
   "source": [
    "# use decorator\n",
    "def decorator(func):\n",
    "    def wrapper(n):\n",
    "        start_time = time.time()\n",
    "        func(n)\n",
    "        end_time = time.time()\n",
    "        print('Time used:', end_time - start_time)\n",
    "    return wrapper"
   ]
  },
  {
   "cell_type": "code",
   "execution_count": 3,
   "metadata": {},
   "outputs": [],
   "source": [
    "@decorator\n",
    "def getList(n):\n",
    "    '''\n",
    "    # get starting time\n",
    "    start_time = time.time()\n",
    "    '''\n",
    "    seq = list(range(pow(10,8)))\n",
    "    x = random.sample(seq,n)\n",
    "    y = sorted(x)\n",
    "    '''\n",
    "    # get the ending time\n",
    "    end_time = time.time()\n",
    "    # print time consuming\n",
    "    print('Time used:', end_time = start_time)\n",
    "    '''\n",
    "    return y"
   ]
  },
  {
   "cell_type": "code",
   "execution_count": 4,
   "metadata": {},
   "outputs": [
    {
     "name": "stdout",
     "output_type": "stream",
     "text": [
      "Time used: 4.938831567764282\n"
     ]
    }
   ],
   "source": [
    "result = getList(10000)"
   ]
  },
  {
   "cell_type": "code",
   "execution_count": null,
   "metadata": {},
   "outputs": [],
   "source": []
  },
  {
   "cell_type": "code",
   "execution_count": null,
   "metadata": {},
   "outputs": [],
   "source": []
  },
  {
   "cell_type": "markdown",
   "metadata": {},
   "source": [
    "## [Example](https://www.cnblogs.com/Xjng/p/3879064.html)"
   ]
  },
  {
   "cell_type": "markdown",
   "metadata": {},
   "source": [
    "# [Constructor](https://www.geeksforgeeks.org/constructors-in-python/)"
   ]
  },
  {
   "cell_type": "markdown",
   "metadata": {},
   "source": [
    "- instantiate an object.\n",
    "\n",
    "- The task of constructors is to initialize(assign values) to the data members of the class when an object of class is created.\n",
    "\n",
    "    - In Python the __init__() method is called the constructor and is always called when an object is created."
   ]
  },
  {
   "cell_type": "markdown",
   "metadata": {},
   "source": [
    "## Type"
   ]
  },
  {
   "cell_type": "markdown",
   "metadata": {},
   "source": [
    "- default constructor (self)\n",
    "\n",
    "- parameterized constructor (self, others)"
   ]
  },
  {
   "cell_type": "markdown",
   "metadata": {},
   "source": [
    "# [Python's Instance, Class, and Static Methods](https://realpython.com/instance-class-and-static-methods-demystified/)"
   ]
  },
  {
   "cell_type": "code",
   "execution_count": 5,
   "metadata": {},
   "outputs": [],
   "source": [
    "class MyClass:\n",
    "    def method(self):\n",
    "        return 'instance method called', self\n",
    "\n",
    "    @classmethod\n",
    "    def classmethod(cls):\n",
    "        return 'class method called', cls\n",
    "\n",
    "    @staticmethod\n",
    "    def staticmethod():\n",
    "        return 'static method called'"
   ]
  },
  {
   "cell_type": "markdown",
   "metadata": {},
   "source": [
    "## Instance Methond\n",
    "\n",
    "- self parameter points to an instance of MyClass when the method is called\n",
    "\n",
    "- Through the self parameter, instance methods can freely access attributes and other methods on the same object.\n",
    "\n",
    "- Instance methods can also access the class itself through the self.\\_\\_class\\_\\_ attribute. This means instance methods can also modify class state."
   ]
  },
  {
   "cell_type": "code",
   "execution_count": 6,
   "metadata": {},
   "outputs": [
    {
     "data": {
      "text/plain": [
       "('instance method called', <__main__.MyClass at 0x2697f3ad208>)"
      ]
     },
     "execution_count": 6,
     "metadata": {},
     "output_type": "execute_result"
    }
   ],
   "source": [
    "obj = MyClass()\n",
    "obj.method()"
   ]
  },
  {
   "cell_type": "code",
   "execution_count": 7,
   "metadata": {},
   "outputs": [
    {
     "data": {
      "text/plain": [
       "('instance method called', <__main__.MyClass at 0x2697f3ad208>)"
      ]
     },
     "execution_count": 7,
     "metadata": {},
     "output_type": "execute_result"
    }
   ],
   "source": [
    "MyClass.method(obj)"
   ]
  },
  {
   "cell_type": "code",
   "execution_count": 15,
   "metadata": {},
   "outputs": [
    {
     "ename": "TypeError",
     "evalue": "method() missing 1 required positional argument: 'self'",
     "output_type": "error",
     "traceback": [
      "\u001b[1;31m---------------------------------------------------------------------------\u001b[0m",
      "\u001b[1;31mTypeError\u001b[0m                                 Traceback (most recent call last)",
      "\u001b[1;32m<ipython-input-15-88f17b4fa117>\u001b[0m in \u001b[0;36m<module>\u001b[1;34m\u001b[0m\n\u001b[1;32m----> 1\u001b[1;33m \u001b[0mMyClass\u001b[0m\u001b[1;33m.\u001b[0m\u001b[0mmethod\u001b[0m\u001b[1;33m(\u001b[0m\u001b[1;33m)\u001b[0m\u001b[1;33m\u001b[0m\u001b[1;33m\u001b[0m\u001b[0m\n\u001b[0m",
      "\u001b[1;31mTypeError\u001b[0m: method() missing 1 required positional argument: 'self'"
     ]
    }
   ],
   "source": [
    "MyClass.method()"
   ]
  },
  {
   "cell_type": "markdown",
   "metadata": {},
   "source": [
    "## Class Method\n",
    "\n",
    "- Instead of accepting a self parameter, class methods take a cls parameter that points to the class—and not the object instance—when the method is called.\n",
    "\n",
    "- Because the class method only has access to this cls argument, it can’t modify object instance state. That would require access to self.\n",
    "\n",
    "- Can still modify class state that applies across all instances of the class."
   ]
  },
  {
   "cell_type": "code",
   "execution_count": 12,
   "metadata": {},
   "outputs": [
    {
     "data": {
      "text/plain": [
       "('class method called', __main__.MyClass)"
      ]
     },
     "execution_count": 12,
     "metadata": {},
     "output_type": "execute_result"
    }
   ],
   "source": [
    "MyClass.classmethod()"
   ]
  },
  {
   "cell_type": "code",
   "execution_count": 8,
   "metadata": {},
   "outputs": [
    {
     "data": {
      "text/plain": [
       "('class method called', __main__.MyClass)"
      ]
     },
     "execution_count": 8,
     "metadata": {},
     "output_type": "execute_result"
    }
   ],
   "source": [
    "obj.classmethod()"
   ]
  },
  {
   "cell_type": "markdown",
   "metadata": {},
   "source": [
    "## Static Methods\n"
   ]
  },
  {
   "cell_type": "markdown",
   "metadata": {},
   "source": [
    "- MyClass.staticmethod was marked with a @staticmethod decorator to flag it as a static method.\n",
    "\n",
    "- Therefore a static method can neither modify object state nor class state. \n",
    "\n",
    "    - static method takes neither a self nor a cls parameter (but of course it’s free to accept an arbitrary number of other parameters).\n",
    "\n",
    "- Static methods are restricted in what data they can access - and they’re primarily a way to namespace your methods."
   ]
  },
  {
   "cell_type": "code",
   "execution_count": 13,
   "metadata": {},
   "outputs": [
    {
     "data": {
      "text/plain": [
       "'static method called'"
      ]
     },
     "execution_count": 13,
     "metadata": {},
     "output_type": "execute_result"
    }
   ],
   "source": [
    "MyClass.staticmethod()"
   ]
  },
  {
   "cell_type": "code",
   "execution_count": 14,
   "metadata": {},
   "outputs": [
    {
     "data": {
      "text/plain": [
       "'static method called'"
      ]
     },
     "execution_count": 14,
     "metadata": {},
     "output_type": "execute_result"
    }
   ],
   "source": [
    "obj.staticmethod()"
   ]
  },
  {
   "cell_type": "markdown",
   "metadata": {},
   "source": [
    "|\"\"|instance method|class method|static method|\n",
    "|---|---|---|---|\n",
    "|a = A()|a.foo(x)|a.class_foo(x)|a.static_foo(x)|\n",
    "|A|NaN|A.class_foo(x)|A.static_foo(x)|"
   ]
  },
  {
   "cell_type": "markdown",
   "metadata": {},
   "source": [
    "## Example"
   ]
  },
  {
   "cell_type": "markdown",
   "metadata": {},
   "source": [
    "Step 1: original Pizza"
   ]
  },
  {
   "cell_type": "code",
   "execution_count": 1,
   "metadata": {},
   "outputs": [],
   "source": [
    "class Pizza:\n",
    "    def __init__(self, ingredients):\n",
    "        self.ingredients = ingredients\n",
    "\n",
    "    def __repr__(self):\n",
    "        return f'Pizza({self.ingredients!r})'"
   ]
  },
  {
   "cell_type": "code",
   "execution_count": 2,
   "metadata": {},
   "outputs": [
    {
     "data": {
      "text/plain": [
       "Pizza(['cheese', 'tomatoes'])"
      ]
     },
     "execution_count": 2,
     "metadata": {},
     "output_type": "execute_result"
    }
   ],
   "source": [
    "Pizza(['cheese', 'tomatoes'])"
   ]
  },
  {
   "cell_type": "code",
   "execution_count": 4,
   "metadata": {},
   "outputs": [
    {
     "data": {
      "text/plain": [
       "Pizza(['mozzarella', 'tomatoes'])"
      ]
     },
     "execution_count": 4,
     "metadata": {},
     "output_type": "execute_result"
    }
   ],
   "source": [
    "Pizza(['mozzarella', 'tomatoes'])"
   ]
  },
  {
   "cell_type": "code",
   "execution_count": 5,
   "metadata": {},
   "outputs": [
    {
     "data": {
      "text/plain": [
       "Pizza(['mozzarella', 'tomatoes', 'ham', 'mushrooms'])"
      ]
     },
     "execution_count": 5,
     "metadata": {},
     "output_type": "execute_result"
    }
   ],
   "source": [
    "Pizza(['mozzarella', 'tomatoes', 'ham', 'mushrooms'])"
   ]
  },
  {
   "cell_type": "code",
   "execution_count": 6,
   "metadata": {},
   "outputs": [
    {
     "data": {
      "text/plain": [
       "Pizza(['mozzarella', 'mozzarella', 'mozzarella', 'mozzarella'])"
      ]
     },
     "execution_count": 6,
     "metadata": {},
     "output_type": "execute_result"
    }
   ],
   "source": [
    "Pizza(['mozzarella'] * 4)"
   ]
  },
  {
   "cell_type": "markdown",
   "metadata": {},
   "source": [
    "Step 2: Add more type of Pizza\n",
    "\n",
    "- Use class methods as factory functions for the different kinds of pizzas"
   ]
  },
  {
   "cell_type": "code",
   "execution_count": 7,
   "metadata": {},
   "outputs": [],
   "source": [
    "class Pizza:\n",
    "    def __init__(self, ingredients):\n",
    "        self.ingredients = ingredients\n",
    "\n",
    "    def __repr__(self):\n",
    "        return f'Pizza({self.ingredients!r})'\n",
    "\n",
    "    @classmethod\n",
    "    def margherita(cls):\n",
    "        return cls(['mozzarella', 'tomatoes'])\n",
    "\n",
    "    @classmethod\n",
    "    def prosciutto(cls):\n",
    "        return cls(['mozzarella', 'tomatoes', 'ham'])"
   ]
  },
  {
   "cell_type": "code",
   "execution_count": 8,
   "metadata": {},
   "outputs": [
    {
     "data": {
      "text/plain": [
       "Pizza(['mozzarella', 'tomatoes'])"
      ]
     },
     "execution_count": 8,
     "metadata": {},
     "output_type": "execute_result"
    }
   ],
   "source": [
    "Pizza.margherita()"
   ]
  },
  {
   "cell_type": "code",
   "execution_count": 9,
   "metadata": {},
   "outputs": [
    {
     "data": {
      "text/plain": [
       "Pizza(['mozzarella', 'tomatoes', 'ham'])"
      ]
     },
     "execution_count": 9,
     "metadata": {},
     "output_type": "execute_result"
    }
   ],
   "source": [
    "Pizza.prosciutto()"
   ]
  },
  {
   "cell_type": "markdown",
   "metadata": {},
   "source": [
    "- These two class method, use the same \\_\\_init\\_\\_ constructor internally and simply provide a shortcut for remembering all of the various ingredients.\n",
    "\n",
    "- To define alternative constructors for the classes.\n",
    "\n",
    "- Python only allows one \\_\\_init\\_\\_ method per class. \n",
    "\n",
    "- Using class methods it’s possible to add as many alternative constructors as necessary.\n",
    "\n",
    "    - This can make the interface for your classes self-documenting (to a certain degree) and simplify their usage."
   ]
  },
  {
   "cell_type": "markdown",
   "metadata": {},
   "source": [
    "Step 3: Calculate Area - static method (test)"
   ]
  },
  {
   "cell_type": "code",
   "execution_count": 10,
   "metadata": {},
   "outputs": [],
   "source": [
    "import math\n",
    "\n",
    "class Pizza:\n",
    "    def __init__(self, radius, ingredients):\n",
    "        self.radius = radius\n",
    "        self.ingredients = ingredients\n",
    "\n",
    "    def __repr__(self):\n",
    "        return (f'Pizza({self.radius!r}, '\n",
    "                f'{self.ingredients!r})')\n",
    "\n",
    "    def area(self):\n",
    "        return self.circle_area(self.radius)\n",
    "\n",
    "    @staticmethod\n",
    "    def circle_area(r):\n",
    "        return r ** 2 * math.pi"
   ]
  },
  {
   "cell_type": "code",
   "execution_count": 11,
   "metadata": {},
   "outputs": [],
   "source": [
    "p = Pizza(4, ['mozzarella', 'tomatoes'])"
   ]
  },
  {
   "cell_type": "code",
   "execution_count": 16,
   "metadata": {},
   "outputs": [
    {
     "data": {
      "text/plain": [
       "50.26548245743669"
      ]
     },
     "execution_count": 16,
     "metadata": {},
     "output_type": "execute_result"
    }
   ],
   "source": [
    "p.area()"
   ]
  },
  {
   "cell_type": "code",
   "execution_count": 14,
   "metadata": {},
   "outputs": [
    {
     "data": {
      "text/plain": [
       "28.274333882308138"
      ]
     },
     "execution_count": 14,
     "metadata": {},
     "output_type": "execute_result"
    }
   ],
   "source": [
    "Pizza.circle_area(3)"
   ]
  },
  {
   "cell_type": "code",
   "execution_count": null,
   "metadata": {},
   "outputs": [],
   "source": []
  },
  {
   "cell_type": "code",
   "execution_count": null,
   "metadata": {},
   "outputs": [],
   "source": []
  },
  {
   "cell_type": "markdown",
   "metadata": {},
   "source": [
    "# [Code introspection](https://www.geeksforgeeks.org/code-introspection-in-python/)"
   ]
  },
  {
   "cell_type": "markdown",
   "metadata": {},
   "source": [
    "- ability to determine the type of an object at runtime;\n",
    "\n",
    "- we can dynamically examine python objects.\n",
    "\n",
    "- used for examining the classes, methods, objects, modules, keywords and get information about them"
   ]
  },
  {
   "cell_type": "markdown",
   "metadata": {},
   "source": [
    "## [Example](http://zetcode.com/lang/python/introspection/)"
   ]
  },
  {
   "cell_type": "markdown",
   "metadata": {},
   "source": [
    "# Name Mangling"
   ]
  },
  {
   "cell_type": "markdown",
   "metadata": {},
   "source": [
    "## [Single Underscore(leading)](https://www.python.org/dev/peps/pep-0008/)\n",
    "\n",
    "- Names, in a class, with a leading underscore are simply to indicate to other programmers that the attribute or method is intended to be private."
   ]
  },
  {
   "cell_type": "markdown",
   "metadata": {},
   "source": [
    "## [Double Underscore(Name Mangling)](https://docs.python.org/3/tutorial/classes.html#private-variables)"
   ]
  },
  {
   "cell_type": "code",
   "execution_count": null,
   "metadata": {},
   "outputs": [],
   "source": []
  },
  {
   "cell_type": "markdown",
   "metadata": {},
   "source": [
    "# [Iterables / Generators /yield](https://stackoverflow.com/questions/231767/what-does-the-yield-keyword-do)"
   ]
  },
  {
   "cell_type": "markdown",
   "metadata": {},
   "source": [
    "## Iterables\n",
    "\n",
    "- list comprehension\n",
    "\n",
    "- store in memory"
   ]
  },
  {
   "cell_type": "code",
   "execution_count": 1,
   "metadata": {},
   "outputs": [],
   "source": [
    "mylist = [x*x for x in range(3)]"
   ]
  },
  {
   "cell_type": "code",
   "execution_count": 4,
   "metadata": {},
   "outputs": [
    {
     "name": "stdout",
     "output_type": "stream",
     "text": [
      "0 140712269091616\n",
      "1 140712269091648\n",
      "4 140712269091744\n"
     ]
    }
   ],
   "source": [
    "for i in mylist:\n",
    "    print(i, id(i))"
   ]
  },
  {
   "cell_type": "code",
   "execution_count": 7,
   "metadata": {},
   "outputs": [
    {
     "data": {
      "text/plain": [
       "1980843601672"
      ]
     },
     "execution_count": 7,
     "metadata": {},
     "output_type": "execute_result"
    }
   ],
   "source": [
    "id(mylist)"
   ]
  },
  {
   "cell_type": "code",
   "execution_count": 57,
   "metadata": {},
   "outputs": [
    {
     "data": {
      "text/plain": [
       "list"
      ]
     },
     "execution_count": 57,
     "metadata": {},
     "output_type": "execute_result"
    }
   ],
   "source": [
    "type(mylist)"
   ]
  },
  {
   "cell_type": "markdown",
   "metadata": {},
   "source": [
    "## Generator"
   ]
  },
  {
   "cell_type": "markdown",
   "metadata": {},
   "source": [
    "- Generators are iterators, a kind of iterable you can only iterate over once. \n",
    "\n",
    "- Generators do not store all the values in memory, they generate the values on the fly.\n",
    "\n",
    "- Cannot perform for i in mygenerator a second time since generators can only be used once\n",
    "\n",
    "    - they calculate 0, then forget about it and calculate 1, and end calculating 4, one by one."
   ]
  },
  {
   "cell_type": "code",
   "execution_count": 5,
   "metadata": {},
   "outputs": [],
   "source": [
    "mygenerator = (x*x for x in range(3))"
   ]
  },
  {
   "cell_type": "code",
   "execution_count": 10,
   "metadata": {},
   "outputs": [],
   "source": [
    "for i in mygenerator:\n",
    "    print(i, id(i))"
   ]
  },
  {
   "cell_type": "code",
   "execution_count": 11,
   "metadata": {},
   "outputs": [
    {
     "data": {
      "text/plain": [
       "1980844239152"
      ]
     },
     "execution_count": 11,
     "metadata": {},
     "output_type": "execute_result"
    }
   ],
   "source": [
    "id(mygenerator)"
   ]
  },
  {
   "cell_type": "code",
   "execution_count": 56,
   "metadata": {},
   "outputs": [
    {
     "data": {
      "text/plain": [
       "generator"
      ]
     },
     "execution_count": 56,
     "metadata": {},
     "output_type": "execute_result"
    }
   ],
   "source": [
    "type(mygenerator)"
   ]
  },
  {
   "cell_type": "markdown",
   "metadata": {},
   "source": [
    "## [yield](https://www.ibm.com/developerworks/cn/opensource/os-cn-python-yield/)"
   ]
  },
  {
   "cell_type": "markdown",
   "metadata": {},
   "source": [
    "yield is a keyword that is used like return, except the function will return a generator."
   ]
  },
  {
   "cell_type": "markdown",
   "metadata": {},
   "source": [
    "### Example - Fibonacci"
   ]
  },
  {
   "cell_type": "code",
   "execution_count": 48,
   "metadata": {},
   "outputs": [],
   "source": [
    "def fib(n):\n",
    "    val_pre1 = -1\n",
    "    val_pre2 = 1\n",
    "    for i in range(n):\n",
    "        val_cur = val_pre1 + val_pre2\n",
    "        print(i, val_cur)\n",
    "        val_pre1 = val_pre2\n",
    "        val_pre2 = val_cur"
   ]
  },
  {
   "cell_type": "markdown",
   "metadata": {},
   "source": [
    "#### To improve reusability - return list"
   ]
  },
  {
   "cell_type": "code",
   "execution_count": 54,
   "metadata": {},
   "outputs": [],
   "source": [
    "def fib(n):\n",
    "    val_pre1 = -1\n",
    "    val_pre2 = 1\n",
    "    l = []\n",
    "    for i in range(n):\n",
    "        val_cur = val_pre1 + val_pre2\n",
    "        l.append(val_cur)\n",
    "        val_pre1 = val_pre2\n",
    "        val_pre2 = val_cur\n",
    "    return l"
   ]
  },
  {
   "cell_type": "markdown",
   "metadata": {},
   "source": [
    "#### To save memory - yield"
   ]
  },
  {
   "cell_type": "markdown",
   "metadata": {},
   "source": [
    "# JSON"
   ]
  },
  {
   "cell_type": "markdown",
   "metadata": {},
   "source": [
    "## The JSON Syntax\n",
    "\n",
    "- JSON based on 3 data type:\n",
    "\n",
    "    - Name - value pair\n",
    "    \n",
    "        - \"first_name\" : \"Jacob\"\n",
    "    \n",
    "    - JSON Object (collection of name-value pairs or Arrays encased in curly brackets.)\n",
    "    \n",
    "        - { \"first_name\":\"Jacob\" , \"last_name\":\"Bellamy\" }\n",
    "    \n",
    "    - JSON Array (A list of values encased in square brackets.)\n",
    "    \n",
    "        - {\"courses\": [\"Compsci 101\", \"Compsci 105\", \"Compsci 107\"]}"
   ]
  },
  {
   "cell_type": "markdown",
   "metadata": {},
   "source": [
    "# [Django Project](http://djangoproject.com/)"
   ]
  },
  {
   "cell_type": "markdown",
   "metadata": {},
   "source": [
    "## Django\n",
    "\n",
    "- web framework—a set of tools designed to help building interactive websites\n",
    "\n",
    "- can respond to page requests, to read and write to a database, manage users,"
   ]
  },
  {
   "cell_type": "markdown",
   "metadata": {},
   "source": [
    "## Setting up a project"
   ]
  },
  {
   "cell_type": "markdown",
   "metadata": {},
   "source": [
    "- describe the project in a specification, or spec. \n",
    "\n",
    "- Then set up a virtual environment to build the project in."
   ]
  },
  {
   "cell_type": "markdown",
   "metadata": {},
   "source": [
    "### Writing a Spec"
   ]
  },
  {
   "cell_type": "markdown",
   "metadata": {},
   "source": [
    "- write a web app called Learning Log that allows users to log the topics they’re interested in and to make journal entries as they learn about each topic.\n",
    "\n",
    "- The Learning Log home page should describe the site and invite users to either register or log in. \n",
    "\n",
    "- Once logged in, a user should be able to create new topics, add new entries, and read and edit existing entries."
   ]
  },
  {
   "cell_type": "markdown",
   "metadata": {},
   "source": [
    "### Creating a Virtual Environment"
   ]
  },
  {
   "cell_type": "markdown",
   "metadata": {},
   "source": [
    "### Installing virtualenv"
   ]
  },
  {
   "cell_type": "markdown",
   "metadata": {},
   "source": [
    "### Activate virtual env"
   ]
  },
  {
   "cell_type": "markdown",
   "metadata": {},
   "source": [
    "### Installing Django"
   ]
  },
  {
   "cell_type": "markdown",
   "metadata": {},
   "source": [
    "### Creating a Project in Django"
   ]
  },
  {
   "cell_type": "code",
   "execution_count": null,
   "metadata": {},
   "outputs": [],
   "source": []
  },
  {
   "cell_type": "code",
   "execution_count": null,
   "metadata": {},
   "outputs": [],
   "source": []
  },
  {
   "cell_type": "markdown",
   "metadata": {},
   "source": [
    "# [More Questions](https://www.cnblogs.com/wupeiqi/p/9078770.html)"
   ]
  },
  {
   "cell_type": "code",
   "execution_count": null,
   "metadata": {},
   "outputs": [],
   "source": []
  }
 ],
 "metadata": {
  "kernelspec": {
   "display_name": "Python 3",
   "language": "python",
   "name": "python3"
  },
  "language_info": {
   "codemirror_mode": {
    "name": "ipython",
    "version": 3
   },
   "file_extension": ".py",
   "mimetype": "text/x-python",
   "name": "python",
   "nbconvert_exporter": "python",
   "pygments_lexer": "ipython3",
   "version": "3.6.5"
  }
 },
 "nbformat": 4,
 "nbformat_minor": 2
}
